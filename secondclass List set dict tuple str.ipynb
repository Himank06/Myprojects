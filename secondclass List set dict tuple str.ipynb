{
 "cells": [
  {
   "cell_type": "code",
   "execution_count": 2,
   "id": "7aaa61fd",
   "metadata": {},
   "outputs": [],
   "source": [
    "l=[]"
   ]
  },
  {
   "cell_type": "code",
   "execution_count": 3,
   "id": "69537988",
   "metadata": {},
   "outputs": [
    {
     "data": {
      "text/plain": [
       "list"
      ]
     },
     "execution_count": 3,
     "metadata": {},
     "output_type": "execute_result"
    }
   ],
   "source": [
    "type(l)"
   ]
  },
  {
   "cell_type": "code",
   "execution_count": 4,
   "id": "de680479",
   "metadata": {},
   "outputs": [],
   "source": [
    "l2=[1,2,3,4,4.5,\"himank\",3+6j,True]"
   ]
  },
  {
   "cell_type": "code",
   "execution_count": 5,
   "id": "cc56c912",
   "metadata": {},
   "outputs": [
    {
     "data": {
      "text/plain": [
       "[1, 2, 3, 4, 4.5, 'himank', (3+6j), True]"
      ]
     },
     "execution_count": 5,
     "metadata": {},
     "output_type": "execute_result"
    }
   ],
   "source": [
    "l2"
   ]
  },
  {
   "cell_type": "code",
   "execution_count": 6,
   "id": "9cde8f52",
   "metadata": {},
   "outputs": [],
   "source": [
    "l3=[1,2,3,4,4.5,\"himank\",3+6j,True,[2,3,4]]"
   ]
  },
  {
   "cell_type": "code",
   "execution_count": 7,
   "id": "6d6c4c33",
   "metadata": {},
   "outputs": [
    {
     "data": {
      "text/plain": [
       "[1, 2, 3, 4, 4.5, 'himank', (3+6j), True, [2, 3, 4]]"
      ]
     },
     "execution_count": 7,
     "metadata": {},
     "output_type": "execute_result"
    }
   ],
   "source": [
    "l3"
   ]
  },
  {
   "cell_type": "code",
   "execution_count": 8,
   "id": "30c5fd29",
   "metadata": {},
   "outputs": [
    {
     "data": {
      "text/plain": [
       "'himank'"
      ]
     },
     "execution_count": 8,
     "metadata": {},
     "output_type": "execute_result"
    }
   ],
   "source": [
    "l3[5]"
   ]
  },
  {
   "cell_type": "code",
   "execution_count": 9,
   "id": "be725ce8",
   "metadata": {},
   "outputs": [
    {
     "data": {
      "text/plain": [
       "3"
      ]
     },
     "execution_count": 9,
     "metadata": {},
     "output_type": "execute_result"
    }
   ],
   "source": [
    "l3[-1][1]"
   ]
  },
  {
   "cell_type": "code",
   "execution_count": 10,
   "id": "70015b13",
   "metadata": {},
   "outputs": [
    {
     "data": {
      "text/plain": [
       "[1, 2, 3, 4]"
      ]
     },
     "execution_count": 10,
     "metadata": {},
     "output_type": "execute_result"
    }
   ],
   "source": [
    "l3[0:4]   #same as slicing "
   ]
  },
  {
   "cell_type": "code",
   "execution_count": 11,
   "id": "b15da7ce",
   "metadata": {},
   "outputs": [],
   "source": [
    "l4=[3,4,5,\"himank\",\"aggarwal\"]"
   ]
  },
  {
   "cell_type": "code",
   "execution_count": 12,
   "id": "76930dc0",
   "metadata": {},
   "outputs": [
    {
     "data": {
      "text/plain": [
       "[1,\n",
       " 2,\n",
       " 3,\n",
       " 4,\n",
       " 4.5,\n",
       " 'himank',\n",
       " (3+6j),\n",
       " True,\n",
       " [2, 3, 4],\n",
       " 3,\n",
       " 4,\n",
       " 5,\n",
       " 'himank',\n",
       " 'aggarwal']"
      ]
     },
     "execution_count": 12,
     "metadata": {},
     "output_type": "execute_result"
    }
   ],
   "source": [
    "l3+l4  #concatination of list"
   ]
  },
  {
   "cell_type": "code",
   "execution_count": 13,
   "id": "036fc489",
   "metadata": {},
   "outputs": [
    {
     "ename": "TypeError",
     "evalue": "can only concatenate list (not \"str\") to list",
     "output_type": "error",
     "traceback": [
      "\u001b[1;31m---------------------------------------------------------------------------\u001b[0m",
      "\u001b[1;31mTypeError\u001b[0m                                 Traceback (most recent call last)",
      "Cell \u001b[1;32mIn[13], line 1\u001b[0m\n\u001b[1;32m----> 1\u001b[0m \u001b[43ml4\u001b[49m\u001b[38;5;241;43m+\u001b[39;49m\u001b[38;5;124;43m\"\u001b[39;49m\u001b[38;5;124;43mhimank\u001b[39;49m\u001b[38;5;124;43m\"\u001b[39;49m\n",
      "\u001b[1;31mTypeError\u001b[0m: can only concatenate list (not \"str\") to list"
     ]
    }
   ],
   "source": [
    "l4+\"himank\"  # for concatination both data type should be same "
   ]
  },
  {
   "cell_type": "code",
   "execution_count": 14,
   "id": "0dd6fa0c",
   "metadata": {},
   "outputs": [
    {
     "data": {
      "text/plain": [
       "['h', 'i', 'm', 'a', 'n', 'k']"
      ]
     },
     "execution_count": 14,
     "metadata": {},
     "output_type": "execute_result"
    }
   ],
   "source": [
    " list(\"himank\")"
   ]
  },
  {
   "cell_type": "code",
   "execution_count": 15,
   "id": "c116eb5a",
   "metadata": {},
   "outputs": [
    {
     "ename": "TypeError",
     "evalue": "'int' object is not iterable",
     "output_type": "error",
     "traceback": [
      "\u001b[1;31m---------------------------------------------------------------------------\u001b[0m",
      "\u001b[1;31mTypeError\u001b[0m                                 Traceback (most recent call last)",
      "Cell \u001b[1;32mIn[15], line 1\u001b[0m\n\u001b[1;32m----> 1\u001b[0m \u001b[38;5;28;43mlist\u001b[39;49m\u001b[43m(\u001b[49m\u001b[38;5;241;43m222\u001b[39;49m\u001b[43m)\u001b[49m\n",
      "\u001b[1;31mTypeError\u001b[0m: 'int' object is not iterable"
     ]
    }
   ],
   "source": [
    "list(222)"
   ]
  },
  {
   "cell_type": "code",
   "execution_count": 16,
   "id": "731cd7a0",
   "metadata": {},
   "outputs": [
    {
     "data": {
      "text/plain": [
       "[3, 4, 5, 'himank', 'aggarwal', 3, 4, 5, 'himank', 'aggarwal']"
      ]
     },
     "execution_count": 16,
     "metadata": {},
     "output_type": "execute_result"
    }
   ],
   "source": [
    "l4*2"
   ]
  },
  {
   "cell_type": "code",
   "execution_count": 17,
   "id": "9ed8a4b2",
   "metadata": {},
   "outputs": [
    {
     "data": {
      "text/plain": [
       "[3, 4, 5, 'himank', 'aggarwal']"
      ]
     },
     "execution_count": 17,
     "metadata": {},
     "output_type": "execute_result"
    }
   ],
   "source": [
    "l4"
   ]
  },
  {
   "cell_type": "code",
   "execution_count": 18,
   "id": "50b03073",
   "metadata": {},
   "outputs": [
    {
     "data": {
      "text/plain": [
       "3"
      ]
     },
     "execution_count": 18,
     "metadata": {},
     "output_type": "execute_result"
    }
   ],
   "source": [
    "l4[0]"
   ]
  },
  {
   "cell_type": "code",
   "execution_count": 19,
   "id": "ae549c2b",
   "metadata": {},
   "outputs": [],
   "source": [
    "l4[0]=\"himank\""
   ]
  },
  {
   "cell_type": "code",
   "execution_count": 20,
   "id": "8176dcd8",
   "metadata": {
    "scrolled": true
   },
   "outputs": [
    {
     "data": {
      "text/plain": [
       "['himank', 4, 5, 'himank', 'aggarwal']"
      ]
     },
     "execution_count": 20,
     "metadata": {},
     "output_type": "execute_result"
    }
   ],
   "source": [
    "l4    #list is mutable "
   ]
  },
  {
   "cell_type": "code",
   "execution_count": 21,
   "id": "d98331fd",
   "metadata": {},
   "outputs": [],
   "source": [
    "t=(1,2,3,4,\"himank\",\"aggarwal\",4+2j,True)"
   ]
  },
  {
   "cell_type": "code",
   "execution_count": 22,
   "id": "d3acbdcb",
   "metadata": {},
   "outputs": [
    {
     "data": {
      "text/plain": [
       "tuple"
      ]
     },
     "execution_count": 22,
     "metadata": {},
     "output_type": "execute_result"
    }
   ],
   "source": [
    "type(t)"
   ]
  },
  {
   "cell_type": "code",
   "execution_count": 23,
   "id": "92a790c5",
   "metadata": {},
   "outputs": [
    {
     "data": {
      "text/plain": [
       "1"
      ]
     },
     "execution_count": 23,
     "metadata": {},
     "output_type": "execute_result"
    }
   ],
   "source": [
    "t[0]"
   ]
  },
  {
   "cell_type": "code",
   "execution_count": 24,
   "id": "7a8c793f",
   "metadata": {},
   "outputs": [
    {
     "data": {
      "text/plain": [
       "True"
      ]
     },
     "execution_count": 24,
     "metadata": {},
     "output_type": "execute_result"
    }
   ],
   "source": [
    "t[-1]"
   ]
  },
  {
   "cell_type": "code",
   "execution_count": 25,
   "id": "5ab3c52b",
   "metadata": {},
   "outputs": [
    {
     "data": {
      "text/plain": [
       "(True, (4+2j), 'aggarwal', 'himank', 4, 3, 2, 1)"
      ]
     },
     "execution_count": 25,
     "metadata": {},
     "output_type": "execute_result"
    }
   ],
   "source": [
    "t[-1::-1]"
   ]
  },
  {
   "cell_type": "code",
   "execution_count": 26,
   "id": "f2dba813",
   "metadata": {},
   "outputs": [
    {
     "ename": "TypeError",
     "evalue": "'tuple' object does not support item assignment",
     "output_type": "error",
     "traceback": [
      "\u001b[1;31m---------------------------------------------------------------------------\u001b[0m",
      "\u001b[1;31mTypeError\u001b[0m                                 Traceback (most recent call last)",
      "Cell \u001b[1;32mIn[26], line 1\u001b[0m\n\u001b[1;32m----> 1\u001b[0m t[\u001b[38;5;241m0\u001b[39m]\u001b[38;5;241m=\u001b[39m\u001b[38;5;241m2\u001b[39m\n",
      "\u001b[1;31mTypeError\u001b[0m: 'tuple' object does not support item assignment"
     ]
    }
   ],
   "source": [
    "t[0]=2   #immutable thats the difference "
   ]
  },
  {
   "cell_type": "code",
   "execution_count": 27,
   "id": "4ab6bf2c",
   "metadata": {},
   "outputs": [],
   "source": [
    "t1=(2,3,4,5,6)"
   ]
  },
  {
   "cell_type": "code",
   "execution_count": 28,
   "id": "6fa22453",
   "metadata": {},
   "outputs": [
    {
     "data": {
      "text/plain": [
       "(1, 2, 3, 4, 'himank', 'aggarwal', (4+2j), True, 2, 3, 4, 5, 6)"
      ]
     },
     "execution_count": 28,
     "metadata": {},
     "output_type": "execute_result"
    }
   ],
   "source": [
    "t+t1   #concatination is possible "
   ]
  },
  {
   "cell_type": "code",
   "execution_count": 29,
   "id": "449cb21d",
   "metadata": {},
   "outputs": [
    {
     "data": {
      "text/plain": [
       "(1,\n",
       " 2,\n",
       " 3,\n",
       " 4,\n",
       " 'himank',\n",
       " 'aggarwal',\n",
       " (4+2j),\n",
       " True,\n",
       " 1,\n",
       " 2,\n",
       " 3,\n",
       " 4,\n",
       " 'himank',\n",
       " 'aggarwal',\n",
       " (4+2j),\n",
       " True)"
      ]
     },
     "execution_count": 29,
     "metadata": {},
     "output_type": "execute_result"
    }
   ],
   "source": [
    "t*2"
   ]
  },
  {
   "cell_type": "code",
   "execution_count": 30,
   "id": "44cfb72d",
   "metadata": {},
   "outputs": [],
   "source": [
    "a=list(t)"
   ]
  },
  {
   "cell_type": "code",
   "execution_count": 31,
   "id": "c1e1c5ae",
   "metadata": {},
   "outputs": [
    {
     "data": {
      "text/plain": [
       "(1, 2, 3, 4, 'himank', 'aggarwal', (4+2j), True)"
      ]
     },
     "execution_count": 31,
     "metadata": {},
     "output_type": "execute_result"
    }
   ],
   "source": [
    "tuple(a)"
   ]
  },
  {
   "cell_type": "code",
   "execution_count": 32,
   "id": "c11c16b9",
   "metadata": {},
   "outputs": [
    {
     "data": {
      "text/plain": [
       "8"
      ]
     },
     "execution_count": 32,
     "metadata": {},
     "output_type": "execute_result"
    }
   ],
   "source": [
    "len(a)"
   ]
  },
  {
   "cell_type": "code",
   "execution_count": 33,
   "id": "6c45e588",
   "metadata": {},
   "outputs": [
    {
     "data": {
      "text/plain": [
       "17"
      ]
     },
     "execution_count": 33,
     "metadata": {},
     "output_type": "execute_result"
    }
   ],
   "source": [
    "len(\"my name is himank\")"
   ]
  },
  {
   "cell_type": "code",
   "execution_count": 34,
   "id": "9730a4ad",
   "metadata": {},
   "outputs": [],
   "source": [
    "s={}"
   ]
  },
  {
   "cell_type": "code",
   "execution_count": 35,
   "id": "d58d5181",
   "metadata": {},
   "outputs": [
    {
     "data": {
      "text/plain": [
       "dict"
      ]
     },
     "execution_count": 35,
     "metadata": {},
     "output_type": "execute_result"
    }
   ],
   "source": [
    "type(s)"
   ]
  },
  {
   "cell_type": "code",
   "execution_count": 36,
   "id": "dd84869d",
   "metadata": {},
   "outputs": [],
   "source": [
    "s1={1,2,3,4,5,5}"
   ]
  },
  {
   "cell_type": "code",
   "execution_count": 37,
   "id": "e0365b3f",
   "metadata": {},
   "outputs": [
    {
     "data": {
      "text/plain": [
       "set"
      ]
     },
     "execution_count": 37,
     "metadata": {},
     "output_type": "execute_result"
    }
   ],
   "source": [
    "type(s1)"
   ]
  },
  {
   "cell_type": "code",
   "execution_count": 38,
   "id": "56b7e7cb",
   "metadata": {},
   "outputs": [
    {
     "data": {
      "text/plain": [
       "{1, 2, 3, 4, 5}"
      ]
     },
     "execution_count": 38,
     "metadata": {},
     "output_type": "execute_result"
    }
   ],
   "source": [
    "s1"
   ]
  },
  {
   "cell_type": "code",
   "execution_count": 39,
   "id": "ff010637",
   "metadata": {},
   "outputs": [],
   "source": [
    "s2={\"Himank\",\"Himank\",\"himank\",2,3,4,5,6,7}"
   ]
  },
  {
   "cell_type": "code",
   "execution_count": 40,
   "id": "6dafb4e9",
   "metadata": {},
   "outputs": [
    {
     "data": {
      "text/plain": [
       "{2, 3, 4, 5, 6, 7, 'Himank', 'himank'}"
      ]
     },
     "execution_count": 40,
     "metadata": {},
     "output_type": "execute_result"
    }
   ],
   "source": [
    "s2"
   ]
  },
  {
   "cell_type": "code",
   "execution_count": 41,
   "id": "00e9f76e",
   "metadata": {},
   "outputs": [
    {
     "ename": "TypeError",
     "evalue": "unsupported operand type(s) for *: 'set' and 'int'",
     "output_type": "error",
     "traceback": [
      "\u001b[1;31m---------------------------------------------------------------------------\u001b[0m",
      "\u001b[1;31mTypeError\u001b[0m                                 Traceback (most recent call last)",
      "Cell \u001b[1;32mIn[41], line 1\u001b[0m\n\u001b[1;32m----> 1\u001b[0m \u001b[43ms2\u001b[49m\u001b[38;5;241;43m*\u001b[39;49m\u001b[38;5;241;43m2\u001b[39;49m\n",
      "\u001b[1;31mTypeError\u001b[0m: unsupported operand type(s) for *: 'set' and 'int'"
     ]
    }
   ],
   "source": [
    "s2*2"
   ]
  },
  {
   "cell_type": "code",
   "execution_count": 42,
   "id": "460ca546",
   "metadata": {},
   "outputs": [
    {
     "data": {
      "text/plain": [
       "[2, 3, 4, 5, 6, 7, 'Himank', 'himank']"
      ]
     },
     "execution_count": 42,
     "metadata": {},
     "output_type": "execute_result"
    }
   ],
   "source": [
    "list(s2)"
   ]
  },
  {
   "cell_type": "code",
   "execution_count": 43,
   "id": "2059e64c",
   "metadata": {},
   "outputs": [
    {
     "data": {
      "text/plain": [
       "{4, 5, 'aggarwal', 'himank'}"
      ]
     },
     "execution_count": 43,
     "metadata": {},
     "output_type": "execute_result"
    }
   ],
   "source": [
    "set(l4)"
   ]
  },
  {
   "cell_type": "code",
   "execution_count": 44,
   "id": "2bb274fe",
   "metadata": {},
   "outputs": [
    {
     "ename": "TypeError",
     "evalue": "unhashable type: 'list'",
     "output_type": "error",
     "traceback": [
      "\u001b[1;31m---------------------------------------------------------------------------\u001b[0m",
      "\u001b[1;31mTypeError\u001b[0m                                 Traceback (most recent call last)",
      "Cell \u001b[1;32mIn[44], line 1\u001b[0m\n\u001b[1;32m----> 1\u001b[0m \u001b[38;5;28;43mset\u001b[39;49m\u001b[43m(\u001b[49m\u001b[43ml3\u001b[49m\u001b[43m)\u001b[49m\n",
      "\u001b[1;31mTypeError\u001b[0m: unhashable type: 'list'"
     ]
    }
   ],
   "source": [
    "set(l3)"
   ]
  },
  {
   "cell_type": "code",
   "execution_count": null,
   "id": "3dddabe5",
   "metadata": {},
   "outputs": [],
   "source": [
    "s3={2,3,4,{6,7,8}}"
   ]
  },
  {
   "cell_type": "code",
   "execution_count": 45,
   "id": "00f3b82b",
   "metadata": {},
   "outputs": [
    {
     "data": {
      "text/plain": [
       "(2, 3, 4, 5, 6, 7, 'Himank', 'himank')"
      ]
     },
     "execution_count": 45,
     "metadata": {},
     "output_type": "execute_result"
    }
   ],
   "source": [
    "tuple(s2)"
   ]
  },
  {
   "cell_type": "markdown",
   "id": "6eab85d6",
   "metadata": {},
   "source": [
    "## "
   ]
  },
  {
   "cell_type": "code",
   "execution_count": 46,
   "id": "4ac99316",
   "metadata": {},
   "outputs": [
    {
     "data": {
      "text/plain": [
       "{2, 3, 4, 5, 6, 7, 'Himank', 'himank'}"
      ]
     },
     "execution_count": 46,
     "metadata": {},
     "output_type": "execute_result"
    }
   ],
   "source": [
    "s2"
   ]
  },
  {
   "cell_type": "code",
   "execution_count": 47,
   "id": "a2fc414f",
   "metadata": {},
   "outputs": [
    {
     "ename": "TypeError",
     "evalue": "'set' object is not subscriptable",
     "output_type": "error",
     "traceback": [
      "\u001b[1;31m---------------------------------------------------------------------------\u001b[0m",
      "\u001b[1;31mTypeError\u001b[0m                                 Traceback (most recent call last)",
      "Cell \u001b[1;32mIn[47], line 1\u001b[0m\n\u001b[1;32m----> 1\u001b[0m \u001b[43ms2\u001b[49m\u001b[43m[\u001b[49m\u001b[38;5;241;43m0\u001b[39;49m\u001b[43m]\u001b[49m\n",
      "\u001b[1;31mTypeError\u001b[0m: 'set' object is not subscriptable"
     ]
    }
   ],
   "source": [
    "s2[0]"
   ]
  },
  {
   "cell_type": "code",
   "execution_count": 48,
   "id": "b71f0cc0",
   "metadata": {},
   "outputs": [],
   "source": [
    "s3={10,11,12}"
   ]
  },
  {
   "cell_type": "code",
   "execution_count": 49,
   "id": "7daf1391",
   "metadata": {},
   "outputs": [
    {
     "ename": "TypeError",
     "evalue": "unsupported operand type(s) for +: 'set' and 'set'",
     "output_type": "error",
     "traceback": [
      "\u001b[1;31m---------------------------------------------------------------------------\u001b[0m",
      "\u001b[1;31mTypeError\u001b[0m                                 Traceback (most recent call last)",
      "Cell \u001b[1;32mIn[49], line 1\u001b[0m\n\u001b[1;32m----> 1\u001b[0m \u001b[43ms2\u001b[49m\u001b[38;5;241;43m+\u001b[39;49m\u001b[43ms3\u001b[49m\n",
      "\u001b[1;31mTypeError\u001b[0m: unsupported operand type(s) for +: 'set' and 'set'"
     ]
    }
   ],
   "source": [
    "s2+s3"
   ]
  },
  {
   "cell_type": "code",
   "execution_count": 50,
   "id": "dc93cfe2",
   "metadata": {},
   "outputs": [],
   "source": [
    "d={}"
   ]
  },
  {
   "cell_type": "code",
   "execution_count": 51,
   "id": "d153d98a",
   "metadata": {},
   "outputs": [
    {
     "data": {
      "text/plain": [
       "dict"
      ]
     },
     "execution_count": 51,
     "metadata": {},
     "output_type": "execute_result"
    }
   ],
   "source": [
    "type(d)"
   ]
  },
  {
   "cell_type": "code",
   "execution_count": 52,
   "id": "c966f740",
   "metadata": {},
   "outputs": [
    {
     "ename": "SyntaxError",
     "evalue": "closing parenthesis '}' does not match opening parenthesis '[' (3650771385.py, line 1)",
     "output_type": "error",
     "traceback": [
      "\u001b[1;36m  Cell \u001b[1;32mIn[52], line 1\u001b[1;36m\u001b[0m\n\u001b[1;33m    d1={\"name\":\"himank\",\"subject\":[\"economics\",\"ecotrix]\",\"number\":100}\u001b[0m\n\u001b[1;37m                                                                      ^\u001b[0m\n\u001b[1;31mSyntaxError\u001b[0m\u001b[1;31m:\u001b[0m closing parenthesis '}' does not match opening parenthesis '['\n"
     ]
    }
   ],
   "source": [
    "d1={\"name\":\"himank\",\"subject\":[\"economics\",\"ecotrix]\",\"number\":100}"
   ]
  },
  {
   "cell_type": "code",
   "execution_count": 53,
   "id": "261afe3c",
   "metadata": {},
   "outputs": [],
   "source": [
    "d2={\"name\":\"himank\",\"name\":\"hulala\"}"
   ]
  },
  {
   "cell_type": "code",
   "execution_count": 54,
   "id": "be079315",
   "metadata": {},
   "outputs": [
    {
     "data": {
      "text/plain": [
       "{'name': 'hulala'}"
      ]
     },
     "execution_count": 54,
     "metadata": {},
     "output_type": "execute_result"
    }
   ],
   "source": [
    "d2   # one key/word cant have 2 values just the latest value, key should always be unique like a many to one function from key to value "
   ]
  },
  {
   "cell_type": "code",
   "execution_count": 55,
   "id": "7a9a65d5",
   "metadata": {},
   "outputs": [],
   "source": [
    "d3={33:\"himank\",\"himank\":22} ##  INTEGERS AND Strings can behave like a key "
   ]
  },
  {
   "cell_type": "code",
   "execution_count": 56,
   "id": "4f1cfc92",
   "metadata": {},
   "outputs": [
    {
     "ename": "TypeError",
     "evalue": "unhashable type: 'list'",
     "output_type": "error",
     "traceback": [
      "\u001b[1;31m---------------------------------------------------------------------------\u001b[0m",
      "\u001b[1;31mTypeError\u001b[0m                                 Traceback (most recent call last)",
      "Cell \u001b[1;32mIn[56], line 1\u001b[0m\n\u001b[1;32m----> 1\u001b[0m d4\u001b[38;5;241m=\u001b[39m{[\u001b[38;5;241m1\u001b[39m,\u001b[38;5;241m2\u001b[39m]:\u001b[38;5;124m\"\u001b[39m\u001b[38;5;124mhimank\u001b[39m\u001b[38;5;124m\"\u001b[39m}\n",
      "\u001b[1;31mTypeError\u001b[0m: unhashable type: 'list'"
     ]
    }
   ],
   "source": [
    "d4={[1,2]:\"himank\"}   #list and set cant behave like a key "
   ]
  },
  {
   "cell_type": "code",
   "execution_count": null,
   "id": "d9575c43",
   "metadata": {},
   "outputs": [],
   "source": [
    "d5={(1,2):\"himank\"}   # tuple can act like a key "
   ]
  },
  {
   "cell_type": "code",
   "execution_count": 57,
   "id": "e0a1beba",
   "metadata": {},
   "outputs": [
    {
     "ename": "NameError",
     "evalue": "name 'd5' is not defined",
     "output_type": "error",
     "traceback": [
      "\u001b[1;31m---------------------------------------------------------------------------\u001b[0m",
      "\u001b[1;31mNameError\u001b[0m                                 Traceback (most recent call last)",
      "Cell \u001b[1;32mIn[57], line 1\u001b[0m\n\u001b[1;32m----> 1\u001b[0m \u001b[43md5\u001b[49m\n",
      "\u001b[1;31mNameError\u001b[0m: name 'd5' is not defined"
     ]
    }
   ],
   "source": [
    "d5"
   ]
  },
  {
   "cell_type": "code",
   "execution_count": 58,
   "id": "ffa76ff2",
   "metadata": {},
   "outputs": [],
   "source": [
    "d6={\"course\":[\"ecotrix\",\"micro\",\"macro\",\"game theory\"],\"mentor\":(\"nc sir\",\"br sir\",\"pb sir \"),\"marks\":{100,99,88},'duration':1}"
   ]
  },
  {
   "cell_type": "code",
   "execution_count": 59,
   "id": "f42cadd1",
   "metadata": {},
   "outputs": [
    {
     "data": {
      "text/plain": [
       "{'course': ['ecotrix', 'micro', 'macro', 'game theory'],\n",
       " 'mentor': ('nc sir', 'br sir', 'pb sir '),\n",
       " 'marks': {88, 99, 100},\n",
       " 'duration': 1}"
      ]
     },
     "execution_count": 59,
     "metadata": {},
     "output_type": "execute_result"
    }
   ],
   "source": [
    "d6    #value can be set list integer set boolean everything is fine "
   ]
  },
  {
   "cell_type": "code",
   "execution_count": 60,
   "id": "b7c13ee5",
   "metadata": {},
   "outputs": [],
   "source": [
    "## value can be duplicate just like word meaning but diff words or key (many to one function from key to value )"
   ]
  },
  {
   "cell_type": "code",
   "execution_count": 61,
   "id": "f50b803f",
   "metadata": {},
   "outputs": [
    {
     "data": {
      "text/plain": [
       "['ecotrix', 'micro', 'macro', 'game theory']"
      ]
     },
     "execution_count": 61,
     "metadata": {},
     "output_type": "execute_result"
    }
   ],
   "source": [
    "d6[\"course\"]  ##extracting data just like naming indexes "
   ]
  },
  {
   "cell_type": "code",
   "execution_count": 62,
   "id": "2a603800",
   "metadata": {},
   "outputs": [
    {
     "data": {
      "text/plain": [
       "{88, 99, 100}"
      ]
     },
     "execution_count": 62,
     "metadata": {},
     "output_type": "execute_result"
    }
   ],
   "source": [
    "d6[\"marks\"]   ## wherever i want my own index name or control over index we use dictionary "
   ]
  },
  {
   "cell_type": "code",
   "execution_count": 63,
   "id": "b4137866",
   "metadata": {},
   "outputs": [],
   "source": [
    "d7={\"course\":[\"ecotrix\",\"micro\",\"macro\",\"game theory\"],\"mentor\":(\"nc sir\",\"br sir\",\"pb sir \"),\"marks\":{100,99,88},'duration':1,\"syllabus\":{\"python\":[\"ml\",\"dl\",\"ai\"]}}"
   ]
  },
  {
   "cell_type": "code",
   "execution_count": 64,
   "id": "b1b9fb3d",
   "metadata": {},
   "outputs": [
    {
     "data": {
      "text/plain": [
       "{'course': ['ecotrix', 'micro', 'macro', 'game theory'],\n",
       " 'mentor': ('nc sir', 'br sir', 'pb sir '),\n",
       " 'marks': {88, 99, 100},\n",
       " 'duration': 1,\n",
       " 'syllabus': {'python': ['ml', 'dl', 'ai']}}"
      ]
     },
     "execution_count": 64,
     "metadata": {},
     "output_type": "execute_result"
    }
   ],
   "source": [
    "d7  ## dictionary inside dictionary nested dictionary key going to key of value in syllabus "
   ]
  },
  {
   "cell_type": "code",
   "execution_count": 65,
   "id": "2e3a3ed4",
   "metadata": {},
   "outputs": [],
   "source": [
    "d2[\"phone number\"]=9899999   #can add new key and value to existing dictionary "
   ]
  },
  {
   "cell_type": "code",
   "execution_count": 66,
   "id": "8f11c313",
   "metadata": {},
   "outputs": [
    {
     "data": {
      "text/plain": [
       "{'name': 'hulala', 'phone number': 9899999}"
      ]
     },
     "execution_count": 66,
     "metadata": {},
     "output_type": "execute_result"
    }
   ],
   "source": [
    "d2"
   ]
  },
  {
   "cell_type": "code",
   "execution_count": 67,
   "id": "ffca2d61",
   "metadata": {},
   "outputs": [],
   "source": [
    "d2[\"name\"]=\"himank\" #if key is not available add it if its available overwrite it "
   ]
  },
  {
   "cell_type": "code",
   "execution_count": 68,
   "id": "d9d92240",
   "metadata": {},
   "outputs": [
    {
     "data": {
      "text/plain": [
       "{'name': 'himank', 'phone number': 9899999}"
      ]
     },
     "execution_count": 68,
     "metadata": {},
     "output_type": "execute_result"
    }
   ],
   "source": [
    "d2   #create new value "
   ]
  },
  {
   "cell_type": "code",
   "execution_count": 69,
   "id": "8ef6a0b6",
   "metadata": {},
   "outputs": [],
   "source": [
    "##1.string\n",
    "#2.list\n",
    "#3. tuple\n",
    "#4.set\n",
    "#5. dictionary"
   ]
  },
  {
   "cell_type": "code",
   "execution_count": 70,
   "id": "2fe57434",
   "metadata": {},
   "outputs": [],
   "source": [
    "#now we will try in built function to apply to these data sets\n",
    "## 1ST STRINGS FUNCTION "
   ]
  },
  {
   "cell_type": "code",
   "execution_count": 71,
   "id": "f9000571",
   "metadata": {},
   "outputs": [],
   "source": [
    "s1=\"Himank\""
   ]
  },
  {
   "cell_type": "code",
   "execution_count": 101,
   "id": "9ae86859",
   "metadata": {},
   "outputs": [
    {
     "data": {
      "text/plain": [
       "1"
      ]
     },
     "execution_count": 101,
     "metadata": {},
     "output_type": "execute_result"
    }
   ],
   "source": [
    "s1.count(\"a\")  ##count the no of a "
   ]
  },
  {
   "cell_type": "code",
   "execution_count": 73,
   "id": "5240b266",
   "metadata": {},
   "outputs": [
    {
     "data": {
      "text/plain": [
       "3"
      ]
     },
     "execution_count": 73,
     "metadata": {},
     "output_type": "execute_result"
    }
   ],
   "source": [
    "s1.find(\"a\") ##find the index of a "
   ]
  },
  {
   "cell_type": "code",
   "execution_count": 103,
   "id": "d7c65045",
   "metadata": {},
   "outputs": [
    {
     "data": {
      "text/plain": [
       "0"
      ]
     },
     "execution_count": 103,
     "metadata": {},
     "output_type": "execute_result"
    }
   ],
   "source": [
    "s1.index(\"H\")    #find and index"
   ]
  },
  {
   "cell_type": "code",
   "execution_count": 75,
   "id": "90ae411e",
   "metadata": {},
   "outputs": [],
   "source": [
    "#how they are different \n"
   ]
  },
  {
   "cell_type": "code",
   "execution_count": 76,
   "id": "a55d6b6c",
   "metadata": {},
   "outputs": [
    {
     "data": {
      "text/plain": [
       "-1"
      ]
     },
     "execution_count": 76,
     "metadata": {},
     "output_type": "execute_result"
    }
   ],
   "source": [
    "s1.find(\"z\")"
   ]
  },
  {
   "cell_type": "code",
   "execution_count": 77,
   "id": "221090d8",
   "metadata": {},
   "outputs": [
    {
     "ename": "ValueError",
     "evalue": "substring not found",
     "output_type": "error",
     "traceback": [
      "\u001b[1;31m---------------------------------------------------------------------------\u001b[0m",
      "\u001b[1;31mValueError\u001b[0m                                Traceback (most recent call last)",
      "Cell \u001b[1;32mIn[77], line 1\u001b[0m\n\u001b[1;32m----> 1\u001b[0m \u001b[43ms1\u001b[49m\u001b[38;5;241;43m.\u001b[39;49m\u001b[43mindex\u001b[49m\u001b[43m(\u001b[49m\u001b[38;5;124;43m\"\u001b[39;49m\u001b[38;5;124;43mz\u001b[39;49m\u001b[38;5;124;43m\"\u001b[39;49m\u001b[43m)\u001b[49m\n",
      "\u001b[1;31mValueError\u001b[0m: substring not found"
     ]
    }
   ],
   "source": [
    "s1.index(\"z\")"
   ]
  },
  {
   "cell_type": "code",
   "execution_count": 78,
   "id": "0e950bab",
   "metadata": {
    "scrolled": true
   },
   "outputs": [
    {
     "data": {
      "text/plain": [
       "'HIMANK'"
      ]
     },
     "execution_count": 78,
     "metadata": {},
     "output_type": "execute_result"
    }
   ],
   "source": [
    "s1.upper()"
   ]
  },
  {
   "cell_type": "code",
   "execution_count": 79,
   "id": "4c2272f6",
   "metadata": {},
   "outputs": [
    {
     "data": {
      "text/plain": [
       "'himank'"
      ]
     },
     "execution_count": 79,
     "metadata": {},
     "output_type": "execute_result"
    }
   ],
   "source": [
    "s1.lower()"
   ]
  },
  {
   "cell_type": "code",
   "execution_count": 80,
   "id": "38d6d62c",
   "metadata": {},
   "outputs": [],
   "source": [
    "s2=\"my name is himank aggarwal\""
   ]
  },
  {
   "cell_type": "code",
   "execution_count": 81,
   "id": "de3b9c65",
   "metadata": {},
   "outputs": [
    {
     "data": {
      "text/plain": [
       "'My Name Is Himank Aggarwal'"
      ]
     },
     "execution_count": 81,
     "metadata": {},
     "output_type": "execute_result"
    }
   ],
   "source": [
    "s2.title()"
   ]
  },
  {
   "cell_type": "code",
   "execution_count": 82,
   "id": "efb99fc5",
   "metadata": {},
   "outputs": [
    {
     "data": {
      "text/plain": [
       "'my name is himank aggarwal'"
      ]
     },
     "execution_count": 82,
     "metadata": {},
     "output_type": "execute_result"
    }
   ],
   "source": [
    "s2"
   ]
  },
  {
   "cell_type": "code",
   "execution_count": 83,
   "id": "e8efe82a",
   "metadata": {
    "scrolled": true
   },
   "outputs": [
    {
     "data": {
      "text/plain": [
       "['my', 'name', 'is', 'himank', 'aggarwal']"
      ]
     },
     "execution_count": 83,
     "metadata": {},
     "output_type": "execute_result"
    }
   ],
   "source": [
    "s2.split()    ## HELPS in creating list of string of every word "
   ]
  },
  {
   "cell_type": "code",
   "execution_count": 84,
   "id": "b43b7d31",
   "metadata": {},
   "outputs": [],
   "source": [
    "s3=\"my name,is,himank\""
   ]
  },
  {
   "cell_type": "code",
   "execution_count": 85,
   "id": "694f473f",
   "metadata": {},
   "outputs": [
    {
     "data": {
      "text/plain": [
       "['my', 'name,is,himank']"
      ]
     },
     "execution_count": 85,
     "metadata": {},
     "output_type": "execute_result"
    }
   ],
   "source": [
    "s3.split()"
   ]
  },
  {
   "cell_type": "code",
   "execution_count": 86,
   "id": "308f59ba",
   "metadata": {},
   "outputs": [
    {
     "data": {
      "text/plain": [
       "['my name', 'is', 'himank']"
      ]
     },
     "execution_count": 86,
     "metadata": {},
     "output_type": "execute_result"
    }
   ],
   "source": [
    "s3.split(\",\")  #splitting data when , comes "
   ]
  },
  {
   "cell_type": "code",
   "execution_count": 87,
   "id": "8a007cce",
   "metadata": {},
   "outputs": [],
   "source": [
    "s4=\"this is my first class. i am attendting it for 4th time \""
   ]
  },
  {
   "cell_type": "code",
   "execution_count": 88,
   "id": "8374196f",
   "metadata": {},
   "outputs": [
    {
     "data": {
      "text/plain": [
       "['this is my first class', ' i am attendting it for 4th time ']"
      ]
     },
     "execution_count": 88,
     "metadata": {},
     "output_type": "execute_result"
    }
   ],
   "source": [
    "s4.split(\".\")"
   ]
  },
  {
   "cell_type": "code",
   "execution_count": 89,
   "id": "96eeb681",
   "metadata": {},
   "outputs": [
    {
     "data": {
      "text/plain": [
       "'this is my first class'"
      ]
     },
     "execution_count": 89,
     "metadata": {},
     "output_type": "execute_result"
    }
   ],
   "source": [
    "s4.split(\".\")[0]   #calling the first index of a list "
   ]
  },
  {
   "cell_type": "code",
   "execution_count": 90,
   "id": "b07cc01e",
   "metadata": {},
   "outputs": [
    {
     "data": {
      "text/plain": [
       "'My name is himank aggarwal'"
      ]
     },
     "execution_count": 90,
     "metadata": {},
     "output_type": "execute_result"
    }
   ],
   "source": [
    "s2.capitalize()    #press shift+tab to get the meaning of function "
   ]
  },
  {
   "cell_type": "code",
   "execution_count": 91,
   "id": "0d7a7508",
   "metadata": {},
   "outputs": [
    {
     "data": {
      "text/plain": [
       "'my qame is himaqk aggarwal'"
      ]
     },
     "execution_count": 91,
     "metadata": {},
     "output_type": "execute_result"
    }
   ],
   "source": [
    "s2.replace(\"n\",\"q\")"
   ]
  },
  {
   "cell_type": "code",
   "execution_count": 92,
   "id": "630ddad3",
   "metadata": {},
   "outputs": [
    {
     "data": {
      "text/plain": [
       "'my name is himank aggarwal'"
      ]
     },
     "execution_count": 92,
     "metadata": {},
     "output_type": "execute_result"
    }
   ],
   "source": [
    "s2   #strings are immutable and its not changing the old string but we can use replace function and storing it in another variable "
   ]
  },
  {
   "cell_type": "code",
   "execution_count": 111,
   "id": "db80ec20",
   "metadata": {},
   "outputs": [],
   "source": [
    "s4=\"himank\""
   ]
  },
  {
   "cell_type": "code",
   "execution_count": 118,
   "id": "e69cabd7",
   "metadata": {},
   "outputs": [
    {
     "data": {
      "text/plain": [
       "'--himank--'"
      ]
     },
     "execution_count": 118,
     "metadata": {},
     "output_type": "execute_result"
    }
   ],
   "source": [
    "s4.center(10,\"-\")  #puts string in centre by giving no of things to be added before and second parameter as the thing to be add"
   ]
  },
  {
   "cell_type": "code",
   "execution_count": 119,
   "id": "752949b5",
   "metadata": {},
   "outputs": [
    {
     "data": {
      "text/plain": [
       "'Himank'"
      ]
     },
     "execution_count": 119,
     "metadata": {},
     "output_type": "execute_result"
    }
   ],
   "source": [
    "s1.rstrip()"
   ]
  },
  {
   "cell_type": "code",
   "execution_count": 120,
   "id": "47182356",
   "metadata": {},
   "outputs": [
    {
     "data": {
      "text/plain": [
       "'my name'"
      ]
     },
     "execution_count": 120,
     "metadata": {},
     "output_type": "execute_result"
    }
   ],
   "source": [
    "string=\"my name           \"\n",
    "string.rstrip()    ## removes right hand side space in a string  ## same for lstrip   "
   ]
  },
  {
   "cell_type": "code",
   "execution_count": 121,
   "id": "db9d1445",
   "metadata": {},
   "outputs": [],
   "source": [
    "s10=\"           himank         \""
   ]
  },
  {
   "cell_type": "code",
   "execution_count": 122,
   "id": "c9a79033",
   "metadata": {},
   "outputs": [
    {
     "data": {
      "text/plain": [
       "'himank'"
      ]
     },
     "execution_count": 122,
     "metadata": {},
     "output_type": "execute_result"
    }
   ],
   "source": [
    "s10.strip()    #removes both side of the gaps "
   ]
  },
  {
   "cell_type": "code",
   "execution_count": 123,
   "id": "0e6991b1",
   "metadata": {},
   "outputs": [
    {
     "data": {
      "text/plain": [
       "'Himank'"
      ]
     },
     "execution_count": 123,
     "metadata": {},
     "output_type": "execute_result"
    }
   ],
   "source": [
    "s1"
   ]
  },
  {
   "cell_type": "code",
   "execution_count": 124,
   "id": "aaf32c82",
   "metadata": {},
   "outputs": [
    {
     "data": {
      "text/plain": [
       "True"
      ]
     },
     "execution_count": 124,
     "metadata": {},
     "output_type": "execute_result"
    }
   ],
   "source": [
    "s1.isalnum()"
   ]
  },
  {
   "cell_type": "code",
   "execution_count": 125,
   "id": "903eb064",
   "metadata": {},
   "outputs": [
    {
     "data": {
      "text/plain": [
       "True"
      ]
     },
     "execution_count": 125,
     "metadata": {},
     "output_type": "execute_result"
    }
   ],
   "source": [
    "s1.isalpha()"
   ]
  },
  {
   "cell_type": "code",
   "execution_count": 126,
   "id": "1b66339e",
   "metadata": {},
   "outputs": [
    {
     "data": {
      "text/plain": [
       "False"
      ]
     },
     "execution_count": 126,
     "metadata": {},
     "output_type": "execute_result"
    }
   ],
   "source": [
    "s1.isnumeric()"
   ]
  },
  {
   "cell_type": "code",
   "execution_count": 127,
   "id": "7597bdad",
   "metadata": {},
   "outputs": [],
   "source": [
    "s10=\"2\""
   ]
  },
  {
   "cell_type": "code",
   "execution_count": 128,
   "id": "87888029",
   "metadata": {
    "scrolled": true
   },
   "outputs": [
    {
     "data": {
      "text/plain": [
       "True"
      ]
     },
     "execution_count": 128,
     "metadata": {},
     "output_type": "execute_result"
    }
   ],
   "source": [
    "s10.isnumeric()   ## its asking that is whats written inside string is numeric ?"
   ]
  },
  {
   "cell_type": "code",
   "execution_count": 129,
   "id": "9f8f6b2a",
   "metadata": {},
   "outputs": [
    {
     "data": {
      "text/plain": [
       "False"
      ]
     },
     "execution_count": 129,
     "metadata": {},
     "output_type": "execute_result"
    }
   ],
   "source": [
    "s1.islower()  ##"
   ]
  },
  {
   "cell_type": "code",
   "execution_count": 130,
   "id": "2d084dd3",
   "metadata": {},
   "outputs": [
    {
     "data": {
      "text/plain": [
       "True"
      ]
     },
     "execution_count": 130,
     "metadata": {},
     "output_type": "execute_result"
    }
   ],
   "source": [
    "s1.isprintable()  ##check upon is functions by pressing tab after . "
   ]
  },
  {
   "cell_type": "code",
   "execution_count": 131,
   "id": "4c4551bd",
   "metadata": {},
   "outputs": [],
   "source": [
    "##LIST FUNCTIONS"
   ]
  },
  {
   "cell_type": "code",
   "execution_count": 133,
   "id": "146ff9dd",
   "metadata": {},
   "outputs": [
    {
     "data": {
      "text/plain": [
       "[1, 2, 3, 4, 4.5, 'himank', (3+6j), True, [2, 3, 4]]"
      ]
     },
     "execution_count": 133,
     "metadata": {},
     "output_type": "execute_result"
    }
   ],
   "source": [
    "l3"
   ]
  },
  {
   "cell_type": "code",
   "execution_count": 136,
   "id": "f924fe35",
   "metadata": {},
   "outputs": [],
   "source": [
    "l3.append(\"h\")  #adding the data in last by default "
   ]
  },
  {
   "cell_type": "code",
   "execution_count": 137,
   "id": "7bceae1a",
   "metadata": {},
   "outputs": [
    {
     "data": {
      "text/plain": [
       "[1, 2, 3, 4, 4.5, 'himank', (3+6j), True, [2, 3, 4], 'h', 'h']"
      ]
     },
     "execution_count": 137,
     "metadata": {},
     "output_type": "execute_result"
    }
   ],
   "source": [
    "l3"
   ]
  },
  {
   "cell_type": "code",
   "execution_count": 138,
   "id": "9e11bbbe",
   "metadata": {},
   "outputs": [],
   "source": [
    "l3.insert(1,\"him\")   ## inserting at a particular index "
   ]
  },
  {
   "cell_type": "code",
   "execution_count": 139,
   "id": "c0cd2079",
   "metadata": {},
   "outputs": [
    {
     "data": {
      "text/plain": [
       "[1, 'him', 2, 3, 4, 4.5, 'himank', (3+6j), True, [2, 3, 4], 'h', 'h']"
      ]
     },
     "execution_count": 139,
     "metadata": {},
     "output_type": "execute_result"
    }
   ],
   "source": [
    "l3"
   ]
  },
  {
   "cell_type": "code",
   "execution_count": 140,
   "id": "ce0845ff",
   "metadata": {},
   "outputs": [],
   "source": [
    "l3.extend(\"himaa\")   ## first splitting the dAta and then adding it in lst "
   ]
  },
  {
   "cell_type": "code",
   "execution_count": 141,
   "id": "77f1d6a1",
   "metadata": {},
   "outputs": [
    {
     "data": {
      "text/plain": [
       "[1,\n",
       " 'him',\n",
       " 2,\n",
       " 3,\n",
       " 4,\n",
       " 4.5,\n",
       " 'himank',\n",
       " (3+6j),\n",
       " True,\n",
       " [2, 3, 4],\n",
       " 'h',\n",
       " 'h',\n",
       " 'h',\n",
       " 'i',\n",
       " 'm',\n",
       " 'a',\n",
       " 'a']"
      ]
     },
     "execution_count": 141,
     "metadata": {},
     "output_type": "execute_result"
    }
   ],
   "source": [
    "l3"
   ]
  },
  {
   "cell_type": "code",
   "execution_count": 142,
   "id": "07a26359",
   "metadata": {},
   "outputs": [],
   "source": [
    "l3=[1,2,3,4,5,6]   ## look at this example "
   ]
  },
  {
   "cell_type": "code",
   "execution_count": 143,
   "id": "4aab46e3",
   "metadata": {},
   "outputs": [],
   "source": [
    "l3.append([6,7,8])"
   ]
  },
  {
   "cell_type": "code",
   "execution_count": 144,
   "id": "83ae94bd",
   "metadata": {},
   "outputs": [
    {
     "data": {
      "text/plain": [
       "[1, 2, 3, 4, 5, 6, [6, 7, 8]]"
      ]
     },
     "execution_count": 144,
     "metadata": {},
     "output_type": "execute_result"
    }
   ],
   "source": [
    "l3   "
   ]
  },
  {
   "cell_type": "code",
   "execution_count": 145,
   "id": "19baa236",
   "metadata": {},
   "outputs": [],
   "source": [
    "l3.insert(1,[8,9,10])"
   ]
  },
  {
   "cell_type": "code",
   "execution_count": 146,
   "id": "8a9c5599",
   "metadata": {},
   "outputs": [
    {
     "data": {
      "text/plain": [
       "[1, [8, 9, 10], 2, 3, 4, 5, 6, [6, 7, 8]]"
      ]
     },
     "execution_count": 146,
     "metadata": {},
     "output_type": "execute_result"
    }
   ],
   "source": [
    "l3"
   ]
  },
  {
   "cell_type": "code",
   "execution_count": 147,
   "id": "36e3e2d7",
   "metadata": {},
   "outputs": [],
   "source": [
    "l3.extend([4,5,6])   ## inserting as an individual element "
   ]
  },
  {
   "cell_type": "code",
   "execution_count": 148,
   "id": "e81263b6",
   "metadata": {},
   "outputs": [
    {
     "data": {
      "text/plain": [
       "[1, [8, 9, 10], 2, 3, 4, 5, 6, [6, 7, 8], 4, 5, 6]"
      ]
     },
     "execution_count": 148,
     "metadata": {},
     "output_type": "execute_result"
    }
   ],
   "source": [
    "l3"
   ]
  },
  {
   "cell_type": "code",
   "execution_count": 149,
   "id": "dd53b8e0",
   "metadata": {},
   "outputs": [
    {
     "data": {
      "text/plain": [
       "6"
      ]
     },
     "execution_count": 149,
     "metadata": {},
     "output_type": "execute_result"
    }
   ],
   "source": [
    "l3.pop()"
   ]
  },
  {
   "cell_type": "code",
   "execution_count": 150,
   "id": "a7cd6c0a",
   "metadata": {},
   "outputs": [
    {
     "data": {
      "text/plain": [
       "[1, [8, 9, 10], 2, 3, 4, 5, 6, [6, 7, 8], 4, 5]"
      ]
     },
     "execution_count": 150,
     "metadata": {},
     "output_type": "execute_result"
    }
   ],
   "source": [
    "l3   ##deletion function "
   ]
  },
  {
   "cell_type": "code",
   "execution_count": 151,
   "id": "541482c2",
   "metadata": {},
   "outputs": [
    {
     "data": {
      "text/plain": [
       "[8, 9, 10]"
      ]
     },
     "execution_count": 151,
     "metadata": {},
     "output_type": "execute_result"
    }
   ],
   "source": [
    "l3.pop(1) #pop up first index "
   ]
  },
  {
   "cell_type": "code",
   "execution_count": 152,
   "id": "82b49d2f",
   "metadata": {},
   "outputs": [
    {
     "data": {
      "text/plain": [
       "[1, 2, 3, 4, 5, 6, [6, 7, 8], 4, 5]"
      ]
     },
     "execution_count": 152,
     "metadata": {},
     "output_type": "execute_result"
    }
   ],
   "source": [
    "l3"
   ]
  },
  {
   "cell_type": "code",
   "execution_count": 153,
   "id": "b2600d9d",
   "metadata": {},
   "outputs": [],
   "source": [
    "del  l3  #delete entire list"
   ]
  },
  {
   "cell_type": "code",
   "execution_count": 154,
   "id": "5729ce06",
   "metadata": {},
   "outputs": [
    {
     "ename": "NameError",
     "evalue": "name 'l3' is not defined",
     "output_type": "error",
     "traceback": [
      "\u001b[1;31m---------------------------------------------------------------------------\u001b[0m",
      "\u001b[1;31mNameError\u001b[0m                                 Traceback (most recent call last)",
      "Cell \u001b[1;32mIn[154], line 1\u001b[0m\n\u001b[1;32m----> 1\u001b[0m \u001b[43ml3\u001b[49m\n",
      "\u001b[1;31mNameError\u001b[0m: name 'l3' is not defined"
     ]
    }
   ],
   "source": [
    "l3"
   ]
  },
  {
   "cell_type": "code",
   "execution_count": 155,
   "id": "ea47cc7c",
   "metadata": {},
   "outputs": [],
   "source": [
    "del s2"
   ]
  },
  {
   "cell_type": "code",
   "execution_count": 181,
   "id": "c8626e93",
   "metadata": {},
   "outputs": [
    {
     "ename": "NameError",
     "evalue": "name 's2' is not defined",
     "output_type": "error",
     "traceback": [
      "\u001b[1;31m---------------------------------------------------------------------------\u001b[0m",
      "\u001b[1;31mNameError\u001b[0m                                 Traceback (most recent call last)",
      "Cell \u001b[1;32mIn[181], line 1\u001b[0m\n\u001b[1;32m----> 1\u001b[0m \u001b[43ms2\u001b[49m\n",
      "\u001b[1;31mNameError\u001b[0m: name 's2' is not defined"
     ]
    }
   ],
   "source": [
    "s2"
   ]
  },
  {
   "cell_type": "code",
   "execution_count": 171,
   "id": "79b07077",
   "metadata": {},
   "outputs": [],
   "source": []
  },
  {
   "cell_type": "code",
   "execution_count": 177,
   "id": "32e7da9d",
   "metadata": {},
   "outputs": [],
   "source": []
  },
  {
   "cell_type": "code",
   "execution_count": 182,
   "id": "f14da2f4",
   "metadata": {},
   "outputs": [
    {
     "data": {
      "text/plain": [
       "[2, 1, 3, 4, 4.5, (3+6j), True]"
      ]
     },
     "execution_count": 182,
     "metadata": {},
     "output_type": "execute_result"
    }
   ],
   "source": [
    "l2"
   ]
  },
  {
   "cell_type": "code",
   "execution_count": 183,
   "id": "62435c88",
   "metadata": {},
   "outputs": [],
   "source": [
    "l2.remove(True)\n"
   ]
  },
  {
   "cell_type": "code",
   "execution_count": 184,
   "id": "c47a7b4f",
   "metadata": {},
   "outputs": [
    {
     "data": {
      "text/plain": [
       "[2, 3, 4, 4.5, (3+6j), True]"
      ]
     },
     "execution_count": 184,
     "metadata": {},
     "output_type": "execute_result"
    }
   ],
   "source": [
    "l2"
   ]
  },
  {
   "cell_type": "code",
   "execution_count": 185,
   "id": "fd476160",
   "metadata": {},
   "outputs": [],
   "source": [
    "l2.remove(2)"
   ]
  },
  {
   "cell_type": "code",
   "execution_count": 186,
   "id": "5a2124e1",
   "metadata": {},
   "outputs": [
    {
     "data": {
      "text/plain": [
       "[3, 4, 4.5, (3+6j), True]"
      ]
     },
     "execution_count": 186,
     "metadata": {},
     "output_type": "execute_result"
    }
   ],
   "source": [
    "l2"
   ]
  },
  {
   "cell_type": "code",
   "execution_count": 187,
   "id": "ddc86084",
   "metadata": {},
   "outputs": [],
   "source": [
    "l2.clear()  ##clear the entire list not delete the variable just cleaer the list "
   ]
  },
  {
   "cell_type": "code",
   "execution_count": 188,
   "id": "65604a17",
   "metadata": {},
   "outputs": [
    {
     "data": {
      "text/plain": [
       "[]"
      ]
     },
     "execution_count": 188,
     "metadata": {},
     "output_type": "execute_result"
    }
   ],
   "source": [
    "l2"
   ]
  },
  {
   "cell_type": "code",
   "execution_count": 192,
   "id": "77f64283",
   "metadata": {},
   "outputs": [
    {
     "data": {
      "text/plain": [
       "['himank',\n",
       " 4,\n",
       " 'hi',\n",
       " 'hi',\n",
       " 5,\n",
       " 'himank',\n",
       " 'aggarwal',\n",
       " 'hulala',\n",
       " 'hulala',\n",
       " 'hulala']"
      ]
     },
     "execution_count": 192,
     "metadata": {},
     "output_type": "execute_result"
    }
   ],
   "source": [
    "l4"
   ]
  },
  {
   "cell_type": "code",
   "execution_count": 193,
   "id": "794ca0b0",
   "metadata": {},
   "outputs": [
    {
     "data": {
      "text/plain": [
       "2"
      ]
     },
     "execution_count": 193,
     "metadata": {},
     "output_type": "execute_result"
    }
   ],
   "source": [
    "l4.count(\"himank\")  ##gives the count of element of a list "
   ]
  },
  {
   "cell_type": "code",
   "execution_count": 194,
   "id": "10dd5738",
   "metadata": {},
   "outputs": [
    {
     "data": {
      "text/plain": [
       "0"
      ]
     },
     "execution_count": 194,
     "metadata": {},
     "output_type": "execute_result"
    }
   ],
   "source": [
    "l4.index(\"himank\")  ##lowest index of the variable written inside it "
   ]
  },
  {
   "cell_type": "code",
   "execution_count": 195,
   "id": "5ef32bb2",
   "metadata": {},
   "outputs": [
    {
     "data": {
      "text/plain": [
       "['hulala',\n",
       " 'hulala',\n",
       " 'hulala',\n",
       " 'aggarwal',\n",
       " 'himank',\n",
       " 5,\n",
       " 'hi',\n",
       " 'hi',\n",
       " 4,\n",
       " 'himank']"
      ]
     },
     "execution_count": 195,
     "metadata": {},
     "output_type": "execute_result"
    }
   ],
   "source": [
    "l4[::-1]"
   ]
  },
  {
   "cell_type": "code",
   "execution_count": 196,
   "id": "925dafd8",
   "metadata": {},
   "outputs": [],
   "source": [
    "l4.reverse() ##reversing the list and storing it in same variable "
   ]
  },
  {
   "cell_type": "code",
   "execution_count": 198,
   "id": "fa7c8ff9",
   "metadata": {},
   "outputs": [
    {
     "data": {
      "text/plain": [
       "['hulala',\n",
       " 'hulala',\n",
       " 'hulala',\n",
       " 'aggarwal',\n",
       " 'himank',\n",
       " 5,\n",
       " 'hi',\n",
       " 'hi',\n",
       " 4,\n",
       " 'himank']"
      ]
     },
     "execution_count": 198,
     "metadata": {},
     "output_type": "execute_result"
    }
   ],
   "source": [
    "l4"
   ]
  },
  {
   "cell_type": "code",
   "execution_count": 199,
   "id": "0599be02",
   "metadata": {},
   "outputs": [
    {
     "data": {
      "text/plain": [
       "['hulala',\n",
       " 'hulala',\n",
       " 'hulala',\n",
       " 'aggarwal',\n",
       " 'himank',\n",
       " 5,\n",
       " 'hi',\n",
       " 'hi',\n",
       " 4,\n",
       " 'himank']"
      ]
     },
     "execution_count": 199,
     "metadata": {},
     "output_type": "execute_result"
    }
   ],
   "source": [
    "l4"
   ]
  },
  {
   "cell_type": "code",
   "execution_count": 200,
   "id": "932bb7f4",
   "metadata": {},
   "outputs": [
    {
     "ename": "TypeError",
     "evalue": "'<' not supported between instances of 'int' and 'str'",
     "output_type": "error",
     "traceback": [
      "\u001b[1;31m---------------------------------------------------------------------------\u001b[0m",
      "\u001b[1;31mTypeError\u001b[0m                                 Traceback (most recent call last)",
      "Cell \u001b[1;32mIn[200], line 1\u001b[0m\n\u001b[1;32m----> 1\u001b[0m \u001b[43ml4\u001b[49m\u001b[38;5;241;43m.\u001b[39;49m\u001b[43msort\u001b[49m\u001b[43m(\u001b[49m\u001b[43m)\u001b[49m\n",
      "\u001b[1;31mTypeError\u001b[0m: '<' not supported between instances of 'int' and 'str'"
     ]
    }
   ],
   "source": [
    "l4.sort()  ##if you have similar kind of data then it will do sorting otherwise error"
   ]
  },
  {
   "cell_type": "code",
   "execution_count": 201,
   "id": "abdbae7c",
   "metadata": {},
   "outputs": [],
   "source": [
    "h1=[1,2,4,3,4,6,86,8,6]\n",
    "h1.sort()"
   ]
  },
  {
   "cell_type": "code",
   "execution_count": 202,
   "id": "01563423",
   "metadata": {},
   "outputs": [
    {
     "data": {
      "text/plain": [
       "[1, 2, 3, 4, 4, 6, 6, 8, 86]"
      ]
     },
     "execution_count": 202,
     "metadata": {},
     "output_type": "execute_result"
    }
   ],
   "source": [
    "h1  ##sorted data  in ascending order "
   ]
  },
  {
   "cell_type": "code",
   "execution_count": 203,
   "id": "8fd93be9",
   "metadata": {},
   "outputs": [],
   "source": [
    "h1.sort(reverse=True)  ##sorted in descending order "
   ]
  },
  {
   "cell_type": "code",
   "execution_count": 204,
   "id": "b77cd5a8",
   "metadata": {},
   "outputs": [
    {
     "data": {
      "text/plain": [
       "[86, 8, 6, 6, 4, 4, 3, 2, 1]"
      ]
     },
     "execution_count": 204,
     "metadata": {},
     "output_type": "execute_result"
    }
   ],
   "source": [
    "h1"
   ]
  },
  {
   "cell_type": "code",
   "execution_count": 205,
   "id": "d4199455",
   "metadata": {},
   "outputs": [],
   "source": [
    "## removing same elements from a list "
   ]
  },
  {
   "cell_type": "code",
   "execution_count": 207,
   "id": "a2375c3e",
   "metadata": {},
   "outputs": [],
   "source": [
    "l10=[1,2,1,21,2,3,4,5,6,6,32,1,3,2,32,1,23,3,2,23,2]"
   ]
  },
  {
   "cell_type": "code",
   "execution_count": 208,
   "id": "58619106",
   "metadata": {},
   "outputs": [],
   "source": [
    "sets=set(l10)"
   ]
  },
  {
   "cell_type": "code",
   "execution_count": 209,
   "id": "0eac9e55",
   "metadata": {},
   "outputs": [
    {
     "data": {
      "text/plain": [
       "{1, 2, 3, 4, 5, 6, 21, 23, 32}"
      ]
     },
     "execution_count": 209,
     "metadata": {},
     "output_type": "execute_result"
    }
   ],
   "source": [
    "sets"
   ]
  },
  {
   "cell_type": "code",
   "execution_count": 210,
   "id": "d8d7aeea",
   "metadata": {},
   "outputs": [],
   "source": [
    "new=list(sets)"
   ]
  },
  {
   "cell_type": "code",
   "execution_count": 211,
   "id": "7ad2fba6",
   "metadata": {},
   "outputs": [
    {
     "data": {
      "text/plain": [
       "[32, 1, 2, 3, 4, 5, 6, 21, 23]"
      ]
     },
     "execution_count": 211,
     "metadata": {},
     "output_type": "execute_result"
    }
   ],
   "source": [
    "new"
   ]
  },
  {
   "cell_type": "code",
   "execution_count": 212,
   "id": "c8141b33",
   "metadata": {},
   "outputs": [],
   "source": [
    "new.sort()"
   ]
  },
  {
   "cell_type": "code",
   "execution_count": 213,
   "id": "0e29489a",
   "metadata": {},
   "outputs": [
    {
     "data": {
      "text/plain": [
       "[1, 2, 3, 4, 5, 6, 21, 23, 32]"
      ]
     },
     "execution_count": 213,
     "metadata": {},
     "output_type": "execute_result"
    }
   ],
   "source": [
    "new"
   ]
  },
  {
   "cell_type": "code",
   "execution_count": 214,
   "id": "9fdf40be",
   "metadata": {},
   "outputs": [],
   "source": [
    "## deep copy and swallow  copy"
   ]
  },
  {
   "cell_type": "code",
   "execution_count": 216,
   "id": "b176eb73",
   "metadata": {},
   "outputs": [
    {
     "data": {
      "text/plain": [
       "[1, 2, 1, 21, 2, 3, 4, 5, 6, 6, 32, 1, 3, 2, 32, 1, 23, 3, 2, 23, 2]"
      ]
     },
     "execution_count": 216,
     "metadata": {},
     "output_type": "execute_result"
    }
   ],
   "source": [
    "l11=l10  ##same value will be assigned to l11 (swallow copy)\n",
    "l11"
   ]
  },
  {
   "cell_type": "code",
   "execution_count": 217,
   "id": "39beca98",
   "metadata": {},
   "outputs": [
    {
     "data": {
      "text/plain": [
       "[1, 2, 1, 21, 2, 3, 4, 5, 6, 6, 32, 1, 3, 2, 32, 1, 23, 3, 2, 23, 2]"
      ]
     },
     "execution_count": 217,
     "metadata": {},
     "output_type": "execute_result"
    }
   ],
   "source": [
    "l10\n",
    "l11  #since they are same "
   ]
  },
  {
   "cell_type": "code",
   "execution_count": 218,
   "id": "51838a93",
   "metadata": {},
   "outputs": [],
   "source": [
    "l10[0]=200"
   ]
  },
  {
   "cell_type": "code",
   "execution_count": 219,
   "id": "4c691d61",
   "metadata": {},
   "outputs": [
    {
     "data": {
      "text/plain": [
       "[200, 2, 1, 21, 2, 3, 4, 5, 6, 6, 32, 1, 3, 2, 32, 1, 23, 3, 2, 23, 2]"
      ]
     },
     "execution_count": 219,
     "metadata": {},
     "output_type": "execute_result"
    }
   ],
   "source": [
    "l10"
   ]
  },
  {
   "cell_type": "code",
   "execution_count": 220,
   "id": "c84b978e",
   "metadata": {},
   "outputs": [
    {
     "data": {
      "text/plain": [
       "[200, 2, 1, 21, 2, 3, 4, 5, 6, 6, 32, 1, 3, 2, 32, 1, 23, 3, 2, 23, 2]"
      ]
     },
     "execution_count": 220,
     "metadata": {},
     "output_type": "execute_result"
    }
   ],
   "source": [
    "l11  #now will the same change come to l11:? YES!!"
   ]
  },
  {
   "cell_type": "code",
   "execution_count": 221,
   "id": "77219ca3",
   "metadata": {},
   "outputs": [],
   "source": [
    "l2=l10.copy()    ##now look at this   DEEP COPY "
   ]
  },
  {
   "cell_type": "code",
   "execution_count": 222,
   "id": "7bc6c127",
   "metadata": {},
   "outputs": [
    {
     "data": {
      "text/plain": [
       "[200, 2, 1, 21, 2, 3, 4, 5, 6, 6, 32, 1, 3, 2, 32, 1, 23, 3, 2, 23, 2]"
      ]
     },
     "execution_count": 222,
     "metadata": {},
     "output_type": "execute_result"
    }
   ],
   "source": [
    "l2"
   ]
  },
  {
   "cell_type": "code",
   "execution_count": 223,
   "id": "51b8b233",
   "metadata": {},
   "outputs": [],
   "source": [
    "l10[1]=100"
   ]
  },
  {
   "cell_type": "code",
   "execution_count": 224,
   "id": "7fff9926",
   "metadata": {},
   "outputs": [
    {
     "data": {
      "text/plain": [
       "[200, 100, 1, 21, 2, 3, 4, 5, 6, 6, 32, 1, 3, 2, 32, 1, 23, 3, 2, 23, 2]"
      ]
     },
     "execution_count": 224,
     "metadata": {},
     "output_type": "execute_result"
    }
   ],
   "source": [
    "l10"
   ]
  },
  {
   "cell_type": "code",
   "execution_count": 225,
   "id": "e38f8165",
   "metadata": {},
   "outputs": [
    {
     "data": {
      "text/plain": [
       "[200, 2, 1, 21, 2, 3, 4, 5, 6, 6, 32, 1, 3, 2, 32, 1, 23, 3, 2, 23, 2]"
      ]
     },
     "execution_count": 225,
     "metadata": {},
     "output_type": "execute_result"
    }
   ],
   "source": [
    "l2  ##same change doesnt happen this time!!  ##see register backend now  new space is there for l2 so same change not there "
   ]
  },
  {
   "cell_type": "code",
   "execution_count": 226,
   "id": "5f6fa85c",
   "metadata": {},
   "outputs": [],
   "source": [
    "##copy funnction helps in doing deep copy "
   ]
  },
  {
   "cell_type": "code",
   "execution_count": 227,
   "id": "b5fb1269",
   "metadata": {},
   "outputs": [],
   "source": [
    "##TUPLES FUNCTION NOW "
   ]
  },
  {
   "cell_type": "code",
   "execution_count": 228,
   "id": "933ba9bd",
   "metadata": {},
   "outputs": [
    {
     "data": {
      "text/plain": [
       "(2, 3, 4, 5, 6)"
      ]
     },
     "execution_count": 228,
     "metadata": {},
     "output_type": "execute_result"
    }
   ],
   "source": [
    "t1"
   ]
  },
  {
   "cell_type": "code",
   "execution_count": 229,
   "id": "5b5907f8",
   "metadata": {},
   "outputs": [
    {
     "data": {
      "text/plain": [
       "1"
      ]
     },
     "execution_count": 229,
     "metadata": {},
     "output_type": "execute_result"
    }
   ],
   "source": [
    "t1.count(3) ##count the number of occurences "
   ]
  },
  {
   "cell_type": "code",
   "execution_count": 230,
   "id": "a75196fd",
   "metadata": {},
   "outputs": [
    {
     "data": {
      "text/plain": [
       "1"
      ]
     },
     "execution_count": 230,
     "metadata": {},
     "output_type": "execute_result"
    }
   ],
   "source": [
    "t1.index(3)  ## will give index "
   ]
  },
  {
   "cell_type": "code",
   "execution_count": 233,
   "id": "b41a2ca0",
   "metadata": {},
   "outputs": [],
   "source": [
    "set1={1,2,3,4,5,6}"
   ]
  },
  {
   "cell_type": "code",
   "execution_count": 234,
   "id": "46982236",
   "metadata": {},
   "outputs": [
    {
     "data": {
      "text/plain": [
       "set"
      ]
     },
     "execution_count": 234,
     "metadata": {},
     "output_type": "execute_result"
    }
   ],
   "source": [
    "type(set1)"
   ]
  },
  {
   "cell_type": "code",
   "execution_count": 235,
   "id": "f479b20e",
   "metadata": {},
   "outputs": [],
   "source": [
    "set1.add(100) ##cant add same thing  ##insertion "
   ]
  },
  {
   "cell_type": "code",
   "execution_count": 236,
   "id": "ecf34ed0",
   "metadata": {},
   "outputs": [
    {
     "data": {
      "text/plain": [
       "{1, 2, 3, 4, 5, 6, 100}"
      ]
     },
     "execution_count": 236,
     "metadata": {},
     "output_type": "execute_result"
    }
   ],
   "source": [
    "set1"
   ]
  },
  {
   "cell_type": "code",
   "execution_count": 237,
   "id": "065bcdb0",
   "metadata": {},
   "outputs": [],
   "source": [
    "set1.clear()  ##clear "
   ]
  },
  {
   "cell_type": "code",
   "execution_count": 252,
   "id": "57b6be97",
   "metadata": {},
   "outputs": [],
   "source": [
    "set2={1,23,4,55,6,6}"
   ]
  },
  {
   "cell_type": "code",
   "execution_count": 253,
   "id": "f3429813",
   "metadata": {},
   "outputs": [
    {
     "data": {
      "text/plain": [
       "{1, 4, 6, 23, 55}"
      ]
     },
     "execution_count": 253,
     "metadata": {},
     "output_type": "execute_result"
    }
   ],
   "source": [
    "set2"
   ]
  },
  {
   "cell_type": "code",
   "execution_count": 256,
   "id": "04a6a959",
   "metadata": {},
   "outputs": [],
   "source": [
    "set2.discard(1)   ## subtract same function as remove "
   ]
  },
  {
   "cell_type": "code",
   "execution_count": 257,
   "id": "cf5583b2",
   "metadata": {},
   "outputs": [
    {
     "data": {
      "text/plain": [
       "{4, 6, 23, 55}"
      ]
     },
     "execution_count": 257,
     "metadata": {},
     "output_type": "execute_result"
    }
   ],
   "source": [
    "set2"
   ]
  },
  {
   "cell_type": "code",
   "execution_count": 258,
   "id": "2a3a0ccf",
   "metadata": {},
   "outputs": [
    {
     "data": {
      "text/plain": [
       "4"
      ]
     },
     "execution_count": 258,
     "metadata": {},
     "output_type": "execute_result"
    }
   ],
   "source": [
    "set2.pop()"
   ]
  },
  {
   "cell_type": "code",
   "execution_count": 259,
   "id": "1ca2cde3",
   "metadata": {},
   "outputs": [
    {
     "data": {
      "text/plain": [
       "{6, 23, 55}"
      ]
     },
     "execution_count": 259,
     "metadata": {},
     "output_type": "execute_result"
    }
   ],
   "source": [
    "set2"
   ]
  },
  {
   "cell_type": "code",
   "execution_count": 262,
   "id": "a9d6be29",
   "metadata": {},
   "outputs": [],
   "source": [
    " ##dictionary functions "
   ]
  },
  {
   "cell_type": "code",
   "execution_count": 264,
   "id": "e8c4e76b",
   "metadata": {},
   "outputs": [
    {
     "data": {
      "text/plain": [
       "{'course': ['ecotrix', 'micro', 'macro', 'game theory'],\n",
       " 'mentor': ('nc sir', 'br sir', 'pb sir '),\n",
       " 'marks': {88, 99, 100},\n",
       " 'duration': 1}"
      ]
     },
     "execution_count": 264,
     "metadata": {},
     "output_type": "execute_result"
    }
   ],
   "source": [
    "d6"
   ]
  },
  {
   "cell_type": "code",
   "execution_count": 265,
   "id": "4dacd513",
   "metadata": {},
   "outputs": [
    {
     "data": {
      "text/plain": [
       "dict_keys(['course', 'mentor', 'marks', 'duration'])"
      ]
     },
     "execution_count": 265,
     "metadata": {},
     "output_type": "execute_result"
    }
   ],
   "source": [
    "d6.keys()"
   ]
  },
  {
   "cell_type": "code",
   "execution_count": 266,
   "id": "0fc6288a",
   "metadata": {},
   "outputs": [
    {
     "data": {
      "text/plain": [
       "dict_keys"
      ]
     },
     "execution_count": 266,
     "metadata": {},
     "output_type": "execute_result"
    }
   ],
   "source": [
    "type(d6.keys())"
   ]
  },
  {
   "cell_type": "code",
   "execution_count": 267,
   "id": "1a7a71fe",
   "metadata": {},
   "outputs": [
    {
     "data": {
      "text/plain": [
       "['course', 'mentor', 'marks', 'duration']"
      ]
     },
     "execution_count": 267,
     "metadata": {},
     "output_type": "execute_result"
    }
   ],
   "source": [
    "list(d6.keys())  ##making list of keys type cast "
   ]
  },
  {
   "cell_type": "code",
   "execution_count": 268,
   "id": "8d8f1a12",
   "metadata": {},
   "outputs": [
    {
     "data": {
      "text/plain": [
       "dict_values([['ecotrix', 'micro', 'macro', 'game theory'], ('nc sir', 'br sir', 'pb sir '), {88, 99, 100}, 1])"
      ]
     },
     "execution_count": 268,
     "metadata": {},
     "output_type": "execute_result"
    }
   ],
   "source": [
    "d6.values()   ##give values "
   ]
  },
  {
   "cell_type": "code",
   "execution_count": 269,
   "id": "75c65f36",
   "metadata": {},
   "outputs": [
    {
     "data": {
      "text/plain": [
       "dict_items([('course', ['ecotrix', 'micro', 'macro', 'game theory']), ('mentor', ('nc sir', 'br sir', 'pb sir ')), ('marks', {88, 99, 100}), ('duration', 1)])"
      ]
     },
     "execution_count": 269,
     "metadata": {},
     "output_type": "execute_result"
    }
   ],
   "source": [
    "d6.items()  ##key and values are available in form of a tuple!!"
   ]
  },
  {
   "cell_type": "code",
   "execution_count": 270,
   "id": "3c1a42c6",
   "metadata": {},
   "outputs": [
    {
     "data": {
      "text/plain": [
       "[('course', ['ecotrix', 'micro', 'macro', 'game theory']),\n",
       " ('mentor', ('nc sir', 'br sir', 'pb sir ')),\n",
       " ('marks', {88, 99, 100}),\n",
       " ('duration', 1)]"
      ]
     },
     "execution_count": 270,
     "metadata": {},
     "output_type": "execute_result"
    }
   ],
   "source": [
    "list(d6.items())"
   ]
  },
  {
   "cell_type": "code",
   "execution_count": 271,
   "id": "0626b052",
   "metadata": {},
   "outputs": [
    {
     "data": {
      "text/plain": [
       "['ecotrix', 'micro', 'macro', 'game theory']"
      ]
     },
     "execution_count": 271,
     "metadata": {},
     "output_type": "execute_result"
    }
   ],
   "source": [
    "d6.get(\"course\")  ##same as d6[\"course\"] like calling value by stating key "
   ]
  },
  {
   "cell_type": "code",
   "execution_count": 272,
   "id": "a6edbf54",
   "metadata": {},
   "outputs": [
    {
     "data": {
      "text/plain": [
       "['ecotrix', 'micro', 'macro', 'game theory']"
      ]
     },
     "execution_count": 272,
     "metadata": {},
     "output_type": "execute_result"
    }
   ],
   "source": [
    "d6.pop(\"course\")  ##here you need to give key as an  index about what value to pop "
   ]
  },
  {
   "cell_type": "code",
   "execution_count": 273,
   "id": "f48a7c01",
   "metadata": {},
   "outputs": [
    {
     "data": {
      "text/plain": [
       "{'mentor': ('nc sir', 'br sir', 'pb sir '),\n",
       " 'marks': {88, 99, 100},\n",
       " 'duration': 1}"
      ]
     },
     "execution_count": 273,
     "metadata": {},
     "output_type": "execute_result"
    }
   ],
   "source": [
    "d6 ##course deleted "
   ]
  },
  {
   "cell_type": "code",
   "execution_count": null,
   "id": "98af5cf9",
   "metadata": {},
   "outputs": [],
   "source": []
  }
 ],
 "metadata": {
  "kernelspec": {
   "display_name": "Python 3 (ipykernel)",
   "language": "python",
   "name": "python3"
  },
  "language_info": {
   "codemirror_mode": {
    "name": "ipython",
    "version": 3
   },
   "file_extension": ".py",
   "mimetype": "text/x-python",
   "name": "python",
   "nbconvert_exporter": "python",
   "pygments_lexer": "ipython3",
   "version": "3.10.9"
  }
 },
 "nbformat": 4,
 "nbformat_minor": 5
}
