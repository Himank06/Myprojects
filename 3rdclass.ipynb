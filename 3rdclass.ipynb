{
 "cells": [
  {
   "cell_type": "code",
   "execution_count": 1,
   "id": "fb5d7dff",
   "metadata": {},
   "outputs": [
    {
     "name": "stdout",
     "output_type": "stream",
     "text": [
      "enter you namehimank\n"
     ]
    }
   ],
   "source": [
    "w=input(\"enter you name\")\n"
   ]
  },
  {
   "cell_type": "code",
   "execution_count": 2,
   "id": "d8d2542f",
   "metadata": {},
   "outputs": [
    {
     "data": {
      "text/plain": [
       "'himank'"
      ]
     },
     "execution_count": 2,
     "metadata": {},
     "output_type": "execute_result"
    }
   ],
   "source": [
    "w"
   ]
  },
  {
   "cell_type": "code",
   "execution_count": 3,
   "id": "dfcff627",
   "metadata": {},
   "outputs": [
    {
     "name": "stdout",
     "output_type": "stream",
     "text": [
      "hi\n"
     ]
    }
   ],
   "source": [
    "print(\"hi\")"
   ]
  },
  {
   "cell_type": "code",
   "execution_count": 4,
   "id": "3c6ddc44",
   "metadata": {},
   "outputs": [
    {
     "name": "stdout",
     "output_type": "stream",
     "text": [
      "entr your namehimank\n",
      "himank\n"
     ]
    }
   ],
   "source": [
    "x= input(\"enter your name\")\n",
    "print(x)"
   ]
  },
  {
   "cell_type": "code",
   "execution_count": 19,
   "id": "44790ade",
   "metadata": {},
   "outputs": [
    {
     "name": "stdout",
     "output_type": "stream",
     "text": [
      "enter your age 5\n",
      "your age is 5\n"
     ]
    }
   ],
   "source": [
    "y=input(\"enter your age \")\n",
    "print(\"your age is \" +y )"
   ]
  },
  {
   "cell_type": "code",
   "execution_count": 6,
   "id": "c2c4b967",
   "metadata": {},
   "outputs": [
    {
     "name": "stdout",
     "output_type": "stream",
     "text": [
      "20\n"
     ]
    }
   ],
   "source": [
    "x=10\n",
    "y=10\n",
    "print(x+y)"
   ]
  },
  {
   "cell_type": "code",
   "execution_count": 11,
   "id": "5259c589",
   "metadata": {},
   "outputs": [
    {
     "name": "stdout",
     "output_type": "stream",
     "text": [
      "enterr first value 4\n",
      "second value5\n",
      "4\n",
      "5\n",
      "9\n"
     ]
    }
   ],
   "source": [
    "x=int (input(\"enterr first value \"))\n",
    "y= int(input(\"second value\"))\n",
    "print(x)\n",
    "print (y)\n",
    "print((x+y))"
   ]
  },
  {
   "cell_type": "code",
   "execution_count": 12,
   "id": "d4310d03",
   "metadata": {},
   "outputs": [],
   "source": [
    "## 3 format of print "
   ]
  },
  {
   "cell_type": "code",
   "execution_count": 13,
   "id": "fd6853a6",
   "metadata": {},
   "outputs": [
    {
     "name": "stdout",
     "output_type": "stream",
     "text": [
      "hi\n"
     ]
    }
   ],
   "source": [
    "print(\"hi\")"
   ]
  },
  {
   "cell_type": "code",
   "execution_count": 15,
   "id": "f75f6f23",
   "metadata": {},
   "outputs": [
    {
     "name": "stdout",
     "output_type": "stream",
     "text": [
      "hi himank\n"
     ]
    }
   ],
   "source": [
    "x=\"hi\"\n",
    "y=\"himank\"\n",
    "print(f\"{x} {y}\")    ##f string format   "
   ]
  },
  {
   "cell_type": "code",
   "execution_count": 17,
   "id": "5038a681",
   "metadata": {},
   "outputs": [
    {
     "name": "stdout",
     "output_type": "stream",
     "text": [
      "hi ok himank\n"
     ]
    }
   ],
   "source": [
    "x=\"hi\"\n",
    "y=\"himank\"\n",
    "print(f\"{x} ok {y}\")    ##f string format "
   ]
  },
  {
   "cell_type": "code",
   "execution_count": 20,
   "id": "c716cbf5",
   "metadata": {},
   "outputs": [
    {
     "name": "stdout",
     "output_type": "stream",
     "text": [
      "hi and himank\n"
     ]
    }
   ],
   "source": [
    "print(\"{} and {}\".format(\"hi\",\"himank\"))       ##dot format method "
   ]
  },
  {
   "cell_type": "code",
   "execution_count": 21,
   "id": "3238a9cd",
   "metadata": {},
   "outputs": [
    {
     "name": "stdout",
     "output_type": "stream",
     "text": [
      "himank and hi\n"
     ]
    }
   ],
   "source": [
    "print(\"{1} and {0}\".format(\"hi\",\"himank\"))       ##dot format method "
   ]
  },
  {
   "cell_type": "code",
   "execution_count": 22,
   "id": "0f7041e3",
   "metadata": {},
   "outputs": [],
   "source": [
    "#1 "
   ]
  },
  {
   "cell_type": "code",
   "execution_count": 25,
   "id": "faf413a9",
   "metadata": {},
   "outputs": [
    {
     "name": "stdout",
     "output_type": "stream",
     "text": [
      "fffff\n",
      "ffff\n",
      "f\n",
      "ff\n",
      "f\n"
     ]
    }
   ],
   "source": [
    "print(\"\"\"fffff\n",
    "ffff\n",
    "f\n",
    "ff\n",
    "f\"\"\")         ##multi line print "
   ]
  },
  {
   "cell_type": "code",
   "execution_count": 26,
   "id": "d07b40b0",
   "metadata": {},
   "outputs": [
    {
     "name": "stdout",
     "output_type": "stream",
     "text": [
      "$\n",
      "$$\n",
      "$$$\n",
      "$$$$\n",
      "$$$$\n"
     ]
    }
   ],
   "source": [
    "print(\"\"\"$\n",
    "$$\n",
    "$$$\n",
    "$$$$\n",
    "$$$$\"\"\")"
   ]
  },
  {
   "cell_type": "code",
   "execution_count": 30,
   "id": "6a474210",
   "metadata": {},
   "outputs": [
    {
     "name": "stdout",
     "output_type": "stream",
     "text": [
      "enter the string  himank\n",
      "!himank!\n"
     ]
    }
   ],
   "source": [
    "x=input(\"enter the string  \")\n",
    "y=x\n",
    "print(\"!\"+x+\"!\")     ## take input as a string and then make a copy of it and then print it in with exclamation "
   ]
  },
  {
   "cell_type": "code",
   "execution_count": 31,
   "id": "6dad5271",
   "metadata": {},
   "outputs": [
    {
     "data": {
      "text/plain": [
       "'himank'"
      ]
     },
     "execution_count": 31,
     "metadata": {},
     "output_type": "execute_result"
    }
   ],
   "source": [
    "y"
   ]
  },
  {
   "cell_type": "code",
   "execution_count": 32,
   "id": "f8ddc352",
   "metadata": {},
   "outputs": [],
   "source": [
    "## operators "
   ]
  },
  {
   "cell_type": "code",
   "execution_count": 33,
   "id": "1577631e",
   "metadata": {},
   "outputs": [],
   "source": [
    "a1=10\n",
    "a2=20\n"
   ]
  },
  {
   "cell_type": "code",
   "execution_count": 34,
   "id": "e895010e",
   "metadata": {},
   "outputs": [
    {
     "data": {
      "text/plain": [
       "30"
      ]
     },
     "execution_count": 34,
     "metadata": {},
     "output_type": "execute_result"
    }
   ],
   "source": [
    "a1+a2"
   ]
  },
  {
   "cell_type": "code",
   "execution_count": 35,
   "id": "4b36a083",
   "metadata": {},
   "outputs": [
    {
     "data": {
      "text/plain": [
       "-10"
      ]
     },
     "execution_count": 35,
     "metadata": {},
     "output_type": "execute_result"
    }
   ],
   "source": [
    "a1-a2"
   ]
  },
  {
   "cell_type": "code",
   "execution_count": 36,
   "id": "86f2955b",
   "metadata": {},
   "outputs": [
    {
     "data": {
      "text/plain": [
       "200"
      ]
     },
     "execution_count": 36,
     "metadata": {},
     "output_type": "execute_result"
    }
   ],
   "source": [
    "a1*a2"
   ]
  },
  {
   "cell_type": "code",
   "execution_count": 37,
   "id": "d0b51d57",
   "metadata": {},
   "outputs": [
    {
     "data": {
      "text/plain": [
       "0.05"
      ]
     },
     "execution_count": 37,
     "metadata": {},
     "output_type": "execute_result"
    }
   ],
   "source": [
    "a1/200"
   ]
  },
  {
   "cell_type": "code",
   "execution_count": 38,
   "id": "32efc585",
   "metadata": {},
   "outputs": [
    {
     "data": {
      "text/plain": [
       "2.0"
      ]
     },
     "execution_count": 38,
     "metadata": {},
     "output_type": "execute_result"
    }
   ],
   "source": [
    "a2/a1"
   ]
  },
  {
   "cell_type": "code",
   "execution_count": 40,
   "id": "cf8127bd",
   "metadata": {},
   "outputs": [
    {
     "data": {
      "text/plain": [
       "0"
      ]
     },
     "execution_count": 40,
     "metadata": {},
     "output_type": "execute_result"
    }
   ],
   "source": [
    "a2%a1    #remainder "
   ]
  },
  {
   "cell_type": "code",
   "execution_count": 44,
   "id": "40372abb",
   "metadata": {},
   "outputs": [
    {
     "data": {
      "text/plain": [
       "False"
      ]
     },
     "execution_count": 44,
     "metadata": {},
     "output_type": "execute_result"
    }
   ],
   "source": [
    "a2==a1    ## to check if a2 is equal to a1"
   ]
  },
  {
   "cell_type": "code",
   "execution_count": 46,
   "id": "25826421",
   "metadata": {},
   "outputs": [
    {
     "data": {
      "text/plain": [
       "bool"
      ]
     },
     "execution_count": 46,
     "metadata": {},
     "output_type": "execute_result"
    }
   ],
   "source": [
    "type(a2==a1)  ##boolean "
   ]
  },
  {
   "cell_type": "code",
   "execution_count": 47,
   "id": "8488d0e7",
   "metadata": {},
   "outputs": [
    {
     "data": {
      "text/plain": [
       "False"
      ]
     },
     "execution_count": 47,
     "metadata": {},
     "output_type": "execute_result"
    }
   ],
   "source": [
    "a2 is a1    ## this is identity operator "
   ]
  },
  {
   "cell_type": "code",
   "execution_count": 48,
   "id": "9f92fdd5",
   "metadata": {},
   "outputs": [],
   "source": [
    " ## difference bw a==b and is ??  \n",
    "    "
   ]
  },
  {
   "cell_type": "code",
   "execution_count": 49,
   "id": "c354cfc4",
   "metadata": {},
   "outputs": [
    {
     "data": {
      "text/plain": [
       "2818647982928"
      ]
     },
     "execution_count": 49,
     "metadata": {},
     "output_type": "execute_result"
    }
   ],
   "source": [
    "id(a2)    ## pointer that is address "
   ]
  },
  {
   "cell_type": "code",
   "execution_count": 50,
   "id": "3c05fcf2",
   "metadata": {},
   "outputs": [
    {
     "data": {
      "text/plain": [
       "2818647982608"
      ]
     },
     "execution_count": 50,
     "metadata": {},
     "output_type": "execute_result"
    }
   ],
   "source": [
    "id(a1)"
   ]
  },
  {
   "cell_type": "code",
   "execution_count": 51,
   "id": "fc235c9e",
   "metadata": {},
   "outputs": [],
   "source": [
    "## is check whether the variable points to the same memory address \n",
    "a=10\n",
    "b=10"
   ]
  },
  {
   "cell_type": "code",
   "execution_count": 52,
   "id": "f384ca45",
   "metadata": {},
   "outputs": [
    {
     "data": {
      "text/plain": [
       "2818647982608"
      ]
     },
     "execution_count": 52,
     "metadata": {},
     "output_type": "execute_result"
    }
   ],
   "source": [
    "id(a)"
   ]
  },
  {
   "cell_type": "code",
   "execution_count": 53,
   "id": "9741772c",
   "metadata": {},
   "outputs": [
    {
     "data": {
      "text/plain": [
       "2818647982608"
      ]
     },
     "execution_count": 53,
     "metadata": {},
     "output_type": "execute_result"
    }
   ],
   "source": [
    "id(b)"
   ]
  },
  {
   "cell_type": "code",
   "execution_count": 54,
   "id": "dcbed425",
   "metadata": {},
   "outputs": [
    {
     "data": {
      "text/plain": [
       "True"
      ]
     },
     "execution_count": 54,
     "metadata": {},
     "output_type": "execute_result"
    }
   ],
   "source": [
    "a is b"
   ]
  },
  {
   "cell_type": "code",
   "execution_count": 55,
   "id": "511404b1",
   "metadata": {},
   "outputs": [
    {
     "data": {
      "text/plain": [
       "False"
      ]
     },
     "execution_count": 55,
     "metadata": {},
     "output_type": "execute_result"
    }
   ],
   "source": [
    "a!=b      ## != not equal to "
   ]
  },
  {
   "cell_type": "code",
   "execution_count": 57,
   "id": "bc0251fa",
   "metadata": {},
   "outputs": [],
   "source": [
    "l1=[1,2,3]"
   ]
  },
  {
   "cell_type": "code",
   "execution_count": 58,
   "id": "37604397",
   "metadata": {},
   "outputs": [],
   "source": [
    "l2=[1,2,3]"
   ]
  },
  {
   "cell_type": "code",
   "execution_count": 59,
   "id": "51217568",
   "metadata": {},
   "outputs": [
    {
     "data": {
      "text/plain": [
       "False"
      ]
     },
     "execution_count": 59,
     "metadata": {},
     "output_type": "execute_result"
    }
   ],
   "source": [
    "l1 is l2   ## same integer points to same location but not in case of list "
   ]
  },
  {
   "cell_type": "code",
   "execution_count": 60,
   "id": "8d2fc4be",
   "metadata": {},
   "outputs": [
    {
     "data": {
      "text/plain": [
       "True"
      ]
     },
     "execution_count": 60,
     "metadata": {},
     "output_type": "execute_result"
    }
   ],
   "source": [
    "l1==l2  ## checking the equality "
   ]
  },
  {
   "cell_type": "code",
   "execution_count": 61,
   "id": "6d352de9",
   "metadata": {},
   "outputs": [],
   "source": [
    "l3=[1,2,3,4]"
   ]
  },
  {
   "cell_type": "code",
   "execution_count": 62,
   "id": "a15bf7d5",
   "metadata": {},
   "outputs": [],
   "source": [
    "l4=l3   ## in memory here both list have same address "
   ]
  },
  {
   "cell_type": "code",
   "execution_count": 63,
   "id": "bf9a7736",
   "metadata": {},
   "outputs": [
    {
     "data": {
      "text/plain": [
       "True"
      ]
     },
     "execution_count": 63,
     "metadata": {},
     "output_type": "execute_result"
    }
   ],
   "source": [
    "l4 is l3"
   ]
  },
  {
   "cell_type": "code",
   "execution_count": null,
   "id": "d249a247",
   "metadata": {},
   "outputs": [],
   "source": [
    "print(\"hi\")"
   ]
  },
  {
   "cell_type": "code",
   "execution_count": null,
   "id": "35e14544",
   "metadata": {},
   "outputs": [],
   "source": []
  },
  {
   "cell_type": "code",
   "execution_count": null,
   "id": "a00782c0",
   "metadata": {},
   "outputs": [],
   "source": []
  }
 ],
 "metadata": {
  "kernelspec": {
   "display_name": "Python 3 (ipykernel)",
   "language": "python",
   "name": "python3"
  },
  "language_info": {
   "codemirror_mode": {
    "name": "ipython",
    "version": 3
   },
   "file_extension": ".py",
   "mimetype": "text/x-python",
   "name": "python",
   "nbconvert_exporter": "python",
   "pygments_lexer": "ipython3",
   "version": "3.10.9"
  }
 },
 "nbformat": 4,
 "nbformat_minor": 5
}
