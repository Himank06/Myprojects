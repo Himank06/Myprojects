{
 "cells": [
  {
   "cell_type": "code",
   "execution_count": 1,
   "id": "21c6b6e7",
   "metadata": {},
   "outputs": [],
   "source": [
    "a=10\n",
    "b=20"
   ]
  },
  {
   "cell_type": "code",
   "execution_count": 9,
   "id": "c2fe035f",
   "metadata": {},
   "outputs": [
    {
     "data": {
      "text/plain": [
       "False"
      ]
     },
     "execution_count": 9,
     "metadata": {},
     "output_type": "execute_result"
    }
   ],
   "source": [
    "(a>10)and (b>20)   ##just like and function in c (&&) logical operatos "
   ]
  },
  {
   "cell_type": "code",
   "execution_count": 14,
   "id": "63944101",
   "metadata": {},
   "outputs": [
    {
     "name": "stdout",
     "output_type": "stream",
     "text": [
      "True\n"
     ]
    }
   ],
   "source": [
    "print (True and False )  ##boolean type true false which is used with and function "
   ]
  },
  {
   "cell_type": "code",
   "execution_count": 15,
   "id": "44f6d8b2",
   "metadata": {},
   "outputs": [
    {
     "data": {
      "text/plain": [
       "True"
      ]
     },
     "execution_count": 15,
     "metadata": {},
     "output_type": "execute_result"
    }
   ],
   "source": [
    "(a>6)and(b>5)"
   ]
  },
  {
   "cell_type": "code",
   "execution_count": 16,
   "id": "2d0d29cd",
   "metadata": {},
   "outputs": [],
   "source": [
    "##or operator ||    only one condition needs to be satisfied "
   ]
  },
  {
   "cell_type": "code",
   "execution_count": 19,
   "id": "a0ee377d",
   "metadata": {},
   "outputs": [
    {
     "data": {
      "text/plain": [
       "True"
      ]
     },
     "execution_count": 19,
     "metadata": {},
     "output_type": "execute_result"
    }
   ],
   "source": [
    "a>6 or b>10  "
   ]
  },
  {
   "cell_type": "code",
   "execution_count": 20,
   "id": "20baf13f",
   "metadata": {},
   "outputs": [
    {
     "data": {
      "text/plain": [
       "True"
      ]
     },
     "execution_count": 20,
     "metadata": {},
     "output_type": "execute_result"
    }
   ],
   "source": [
    "a>20 or b>15"
   ]
  },
  {
   "cell_type": "code",
   "execution_count": 21,
   "id": "6274d018",
   "metadata": {},
   "outputs": [
    {
     "data": {
      "text/plain": [
       "True"
      ]
     },
     "execution_count": 21,
     "metadata": {},
     "output_type": "execute_result"
    }
   ],
   "source": [
    "True or False"
   ]
  },
  {
   "cell_type": "code",
   "execution_count": 22,
   "id": "e274d72b",
   "metadata": {},
   "outputs": [],
   "source": [
    "##not operator "
   ]
  },
  {
   "cell_type": "code",
   "execution_count": 23,
   "id": "3f56758c",
   "metadata": {},
   "outputs": [],
   "source": [
    "a =True \n"
   ]
  },
  {
   "cell_type": "code",
   "execution_count": 25,
   "id": "8105dbd0",
   "metadata": {},
   "outputs": [
    {
     "data": {
      "text/plain": [
       "False"
      ]
     },
     "execution_count": 25,
     "metadata": {},
     "output_type": "execute_result"
    }
   ],
   "source": [
    "not (a)\n"
   ]
  },
  {
   "cell_type": "code",
   "execution_count": 31,
   "id": "5fa0c169",
   "metadata": {},
   "outputs": [],
   "source": [
    "a=20\n",
    "b=10"
   ]
  },
  {
   "cell_type": "code",
   "execution_count": 33,
   "id": "e140e8be",
   "metadata": {},
   "outputs": [
    {
     "data": {
      "text/plain": [
       "False"
      ]
     },
     "execution_count": 33,
     "metadata": {},
     "output_type": "execute_result"
    }
   ],
   "source": [
    "not (a>10 and b>5)  ##it would give false for true \n"
   ]
  },
  {
   "cell_type": "code",
   "execution_count": 35,
   "id": "9519818c",
   "metadata": {},
   "outputs": [],
   "source": [
    "## bitwise operator & | ^  ~ "
   ]
  },
  {
   "cell_type": "code",
   "execution_count": 36,
   "id": "789e8473",
   "metadata": {},
   "outputs": [],
   "source": [
    "# & it performs and operations on bits like any value can be represented in 0 and 1 form and then using and on it and then the ans we get output is its value "
   ]
  },
  {
   "cell_type": "code",
   "execution_count": 37,
   "id": "46ed8991",
   "metadata": {},
   "outputs": [],
   "source": [
    "a=20 \n",
    "b=7"
   ]
  },
  {
   "cell_type": "code",
   "execution_count": 45,
   "id": "030e5e9c",
   "metadata": {},
   "outputs": [
    {
     "data": {
      "text/plain": [
       "'0b10100'"
      ]
     },
     "execution_count": 45,
     "metadata": {},
     "output_type": "execute_result"
    }
   ],
   "source": [
    "bin(a)     ##binary representation see "
   ]
  },
  {
   "cell_type": "code",
   "execution_count": 46,
   "id": "f859c892",
   "metadata": {},
   "outputs": [
    {
     "data": {
      "text/plain": [
       "'0b111'"
      ]
     },
     "execution_count": 46,
     "metadata": {},
     "output_type": "execute_result"
    }
   ],
   "source": [
    "bin(b)"
   ]
  },
  {
   "cell_type": "code",
   "execution_count": 47,
   "id": "ef03514b",
   "metadata": {},
   "outputs": [
    {
     "data": {
      "text/plain": [
       "4"
      ]
     },
     "execution_count": 47,
     "metadata": {},
     "output_type": "execute_result"
    }
   ],
   "source": [
    "a&b     ## 10 0 11 1 01 0 00 0 "
   ]
  },
  {
   "cell_type": "code",
   "execution_count": 48,
   "id": "0459c72f",
   "metadata": {},
   "outputs": [
    {
     "data": {
      "text/plain": [
       "23"
      ]
     },
     "execution_count": 48,
     "metadata": {},
     "output_type": "execute_result"
    }
   ],
   "source": [
    "a|b    ## 11 1 10 1 01 1 00 1 "
   ]
  },
  {
   "cell_type": "code",
   "execution_count": 49,
   "id": "2abeb7e4",
   "metadata": {},
   "outputs": [
    {
     "data": {
      "text/plain": [
       "19"
      ]
     },
     "execution_count": 49,
     "metadata": {},
     "output_type": "execute_result"
    }
   ],
   "source": [
    "a^b    ## 11 0 00 0 10 1 01 1 "
   ]
  },
  {
   "cell_type": "code",
   "execution_count": 50,
   "id": "7d286933",
   "metadata": {},
   "outputs": [],
   "source": [
    "a=10"
   ]
  },
  {
   "cell_type": "code",
   "execution_count": 52,
   "id": "855cc980",
   "metadata": {},
   "outputs": [
    {
     "data": {
      "text/plain": [
       "-11"
      ]
     },
     "execution_count": 52,
     "metadata": {},
     "output_type": "execute_result"
    }
   ],
   "source": [
    "~a    ## negation "
   ]
  },
  {
   "cell_type": "code",
   "execution_count": 53,
   "id": "c94b0ff4",
   "metadata": {},
   "outputs": [
    {
     "data": {
      "text/plain": [
       "-13"
      ]
     },
     "execution_count": 53,
     "metadata": {},
     "output_type": "execute_result"
    }
   ],
   "source": [
    "~12  ## see its working but just one more negative "
   ]
  },
  {
   "cell_type": "code",
   "execution_count": 54,
   "id": "4e7c1b08",
   "metadata": {},
   "outputs": [
    {
     "data": {
      "text/plain": [
       "9"
      ]
     },
     "execution_count": 54,
     "metadata": {},
     "output_type": "execute_result"
    }
   ],
   "source": [
    "~-10  ## reverse sign add one "
   ]
  },
  {
   "cell_type": "code",
   "execution_count": 55,
   "id": "2cb8cabd",
   "metadata": {},
   "outputs": [],
   "source": [
    "## in operator "
   ]
  },
  {
   "cell_type": "code",
   "execution_count": 56,
   "id": "1fabfb79",
   "metadata": {},
   "outputs": [],
   "source": [
    "l=[1,23,4,5,6,7]"
   ]
  },
  {
   "cell_type": "code",
   "execution_count": 57,
   "id": "0abbff74",
   "metadata": {},
   "outputs": [
    {
     "data": {
      "text/plain": [
       "True"
      ]
     },
     "execution_count": 57,
     "metadata": {},
     "output_type": "execute_result"
    }
   ],
   "source": [
    "23 in l "
   ]
  },
  {
   "cell_type": "code",
   "execution_count": 58,
   "id": "375424e8",
   "metadata": {},
   "outputs": [
    {
     "data": {
      "text/plain": [
       "False"
      ]
     },
     "execution_count": 58,
     "metadata": {},
     "output_type": "execute_result"
    }
   ],
   "source": [
    "8 in l "
   ]
  },
  {
   "cell_type": "code",
   "execution_count": 59,
   "id": "59966319",
   "metadata": {},
   "outputs": [],
   "source": [
    "a=10"
   ]
  },
  {
   "cell_type": "code",
   "execution_count": 60,
   "id": "4f154751",
   "metadata": {},
   "outputs": [
    {
     "data": {
      "text/plain": [
       "20"
      ]
     },
     "execution_count": 60,
     "metadata": {},
     "output_type": "execute_result"
    }
   ],
   "source": [
    "a<<1   ## left shift not imp   shifting the bits by one value "
   ]
  },
  {
   "cell_type": "code",
   "execution_count": 61,
   "id": "f9198882",
   "metadata": {},
   "outputs": [
    {
     "data": {
      "text/plain": [
       "40"
      ]
     },
     "execution_count": 61,
     "metadata": {},
     "output_type": "execute_result"
    }
   ],
   "source": [
    "a<<2  ## going like multiple of 2 "
   ]
  },
  {
   "cell_type": "code",
   "execution_count": 62,
   "id": "eef701f1",
   "metadata": {},
   "outputs": [
    {
     "data": {
      "text/plain": [
       "5"
      ]
     },
     "execution_count": 62,
     "metadata": {},
     "output_type": "execute_result"
    }
   ],
   "source": [
    "a>>1  ## right shift shifting binary nos by 1 digit to the right "
   ]
  },
  {
   "cell_type": "code",
   "execution_count": 63,
   "id": "54302c4b",
   "metadata": {},
   "outputs": [
    {
     "data": {
      "text/plain": [
       "2"
      ]
     },
     "execution_count": 63,
     "metadata": {},
     "output_type": "execute_result"
    }
   ],
   "source": [
    "a>>2 ## easy "
   ]
  },
  {
   "cell_type": "code",
   "execution_count": null,
   "id": "4aede15f",
   "metadata": {},
   "outputs": [],
   "source": []
  },
  {
   "cell_type": "code",
   "execution_count": 64,
   "id": "3590eccb",
   "metadata": {},
   "outputs": [],
   "source": [
    "## control flows if else else if "
   ]
  },
  {
   "cell_type": "code",
   "execution_count": 65,
   "id": "e167a1ec",
   "metadata": {},
   "outputs": [],
   "source": [
    "age =17 "
   ]
  },
  {
   "cell_type": "code",
   "execution_count": 67,
   "id": "d6bb4a2e",
   "metadata": {},
   "outputs": [
    {
     "name": "stdout",
     "output_type": "stream",
     "text": [
      "you can learn python \n",
      "you can eat \n"
     ]
    }
   ],
   "source": [
    "if age>15:\n",
    "    print(\"you can learn python \")\n",
    "if age>2:\n",
    "    print(\"you can eat \")"
   ]
  },
  {
   "cell_type": "code",
   "execution_count": 70,
   "id": "f15d1195",
   "metadata": {},
   "outputs": [],
   "source": [
    "x=23\n",
    "if x>23:\n",
    "    print(\"you are inside the if block\") ## wont get anything \n",
    " \n",
    "    "
   ]
  },
  {
   "cell_type": "code",
   "execution_count": 71,
   "id": "31a95659",
   "metadata": {},
   "outputs": [
    {
     "name": "stdout",
     "output_type": "stream",
     "text": [
      "cant \n"
     ]
    }
   ],
   "source": [
    "age =15\n",
    "if age>18:\n",
    "    print(\"you can drive\")\n",
    "else:\n",
    "    print(\"cant \")"
   ]
  },
  {
   "cell_type": "code",
   "execution_count": 76,
   "id": "97b85834",
   "metadata": {},
   "outputs": [
    {
     "name": "stdout",
     "output_type": "stream",
     "text": [
      "good performance\n"
     ]
    }
   ],
   "source": [
    "score =80\n",
    "if score >=90:\n",
    "    print(\"excellent performance\")\n",
    "elif score >=80:\n",
    "    print(\"good performance\")\n",
    "elif score>=70:\n",
    "    print(\"average performance\")\n",
    "else:\n",
    "    print(\"poor\")"
   ]
  },
  {
   "cell_type": "code",
   "execution_count": null,
   "id": "2522d5f2",
   "metadata": {},
   "outputs": [],
   "source": []
  },
  {
   "cell_type": "code",
   "execution_count": 5,
   "id": "905c2b04",
   "metadata": {},
   "outputs": [
    {
     "name": "stdout",
     "output_type": "stream",
     "text": [
      "please enter the time 33\n",
      "invalid\n"
     ]
    }
   ],
   "source": [
    "\n",
    "t=int(input(\"please enter the time \"))   ##compare this line with c in c you require scanf and printf see here \n",
    "\n",
    "if (t>=0) and (t<=11):    ## you can use     0<=t<=11 instead of using and operator but cant do this in c \n",
    "    print(\"morning\")\n",
    "    \n",
    "elif (t>=12) and (t<=17):\n",
    "    print(\"afternoon\")\n",
    "    \n",
    "elif (t>=18) and (t<=23):\n",
    "    print(\"evening \")\n",
    "    \n",
    "else:\n",
    "    print(\"invalid\")"
   ]
  },
  {
   "cell_type": "code",
   "execution_count": 6,
   "id": "72e131a8",
   "metadata": {},
   "outputs": [
    {
     "name": "stdout",
     "output_type": "stream",
     "text": [
      "enter first no10\n",
      "enter second no8\n",
      "enter thhird no9\n",
      "highest no is  9\n"
     ]
    }
   ],
   "source": [
    "a=int(input(\"enter first no\"))\n",
    "b=int(input(\"enter second no\"))\n",
    "c=int(input(\"enter thhird no\"))\n",
    "if a>=b>=c:\n",
    "    print(\"highest no is \",a)\n",
    "elif b>=a>=c:\n",
    "    print(\"highest no is\",b)\n",
    "else:\n",
    "    print(\"highest no is \",c)                                ## shortcut  which can work in python but not in c \n",
    "   ## this is wrong put a =10 b=8 c=9 think of logic which is wrong here "
   ]
  },
  {
   "cell_type": "code",
   "execution_count": 8,
   "id": "66855648",
   "metadata": {},
   "outputs": [
    {
     "data": {
      "text/plain": [
       "'int main() {\\n    int num1, num2, num3;\\n\\n    // Input three numbers\\n    printf(\"Enter three numbers: \");\\n    scanf(\"%d %d %d\", &num1, &num2, &num3);\\n\\n    // Check and find the highest number\\n    if (num1 >= num2 && num1 >= num3) {\\n        printf(\"The highest number is: %d\\n\", num1);\\n    } \\n    else if (num2 >= num1 && num2 >= num3) {\\n        printf(\"The highest number is: %d\\n\", num2);\\n    } \\n    else {\\n        printf(\"The highest number is: %d\\n\", num3);\\n    }\\n\\n    return 0;\\n}\\n  ## code in c '"
      ]
     },
     "execution_count": 8,
     "metadata": {},
     "output_type": "execute_result"
    }
   ],
   "source": [
    "## #include <stdio.h>\n",
    "\n",
    "\"\"\"int main() {\n",
    "    int num1, num2, num3;\n",
    "\n",
    "    // Input three numbers\n",
    "    printf(\"Enter three numbers: \");\n",
    "    scanf(\"%d %d %d\", &num1, &num2, &num3);\n",
    "\n",
    "    // Check and find the highest number\n",
    "    if (num1 >= num2 && num1 >= num3) {\n",
    "        printf(\"The highest number is: %d\\n\", num1);\n",
    "    } \n",
    "    else if (num2 >= num1 && num2 >= num3) {\n",
    "        printf(\"The highest number is: %d\\n\", num2);\n",
    "    } \n",
    "    else {\n",
    "        printf(\"The highest number is: %d\\n\", num3);\n",
    "    }\n",
    "\n",
    "    return 0;\n",
    "}\n",
    "  ## code in c \"\"\""
   ]
  },
  {
   "cell_type": "code",
   "execution_count": 4,
   "id": "d2f0be32",
   "metadata": {},
   "outputs": [
    {
     "name": "stdout",
     "output_type": "stream",
     "text": [
      "enter the value of a 5\n",
      "enter the value of b 7\n",
      "enter the operator /\n",
      "result is 0.7142857142857143\n"
     ]
    }
   ],
   "source": [
    "a=int(input(\"enter the value of a \"))\n",
    "b=int(input(\"enter the value of b \"))\n",
    "c=input(\"enter the operator \")\n",
    "if c==\"+\":\n",
    "    print(\"sum is \",a+b)\n",
    "elif c==\"*\":\n",
    "    print(\"multiply is\",a*b)\n",
    "elif c==\"-\":\n",
    "    print(\"result is \",a-b)\n",
    "elif c==\"/\":\n",
    "    if b==0:\n",
    "        print(\"error\")\n",
    "    else:\n",
    "        print(\"result is\",a/b)\n",
    "else:\n",
    "    print(\"wrong operator\")\n",
    "        "
   ]
  },
  {
   "cell_type": "code",
   "execution_count": 7,
   "id": "36c91b5c",
   "metadata": {},
   "outputs": [],
   "source": [
    "range (start,stop,step)   ##same start stop step as in list we did  range function generates a seq of integers "
   ]
  },
  {
   "cell_type": "code",
   "execution_count": 8,
   "id": "1f0f1326",
   "metadata": {},
   "outputs": [
    {
     "data": {
      "text/plain": [
       "range(0, 5)"
      ]
     },
     "execution_count": 8,
     "metadata": {},
     "output_type": "execute_result"
    }
   ],
   "source": [
    "range(0,5)"
   ]
  },
  {
   "cell_type": "code",
   "execution_count": 12,
   "id": "7151e714",
   "metadata": {},
   "outputs": [
    {
     "data": {
      "text/plain": [
       "[0, 1, 2, 3, 4]"
      ]
     },
     "execution_count": 12,
     "metadata": {},
     "output_type": "execute_result"
    }
   ],
   "source": [
    "list(range(5))   ## same as range(0,5) if you dont add any number "
   ]
  },
  {
   "cell_type": "code",
   "execution_count": 10,
   "id": "edb112bb",
   "metadata": {},
   "outputs": [
    {
     "data": {
      "text/plain": [
       "(0, 1, 2, 3, 4)"
      ]
     },
     "execution_count": 10,
     "metadata": {},
     "output_type": "execute_result"
    }
   ],
   "source": [
    "tuple(range(0,5))"
   ]
  },
  {
   "cell_type": "code",
   "execution_count": 11,
   "id": "0d81b6a6",
   "metadata": {},
   "outputs": [
    {
     "data": {
      "text/plain": [
       "[2, 3, 4, 5, 6, 7, 8, 9]"
      ]
     },
     "execution_count": 11,
     "metadata": {},
     "output_type": "execute_result"
    }
   ],
   "source": [
    "list(range(2,10))"
   ]
  },
  {
   "cell_type": "code",
   "execution_count": 13,
   "id": "7b33072e",
   "metadata": {},
   "outputs": [
    {
     "data": {
      "text/plain": [
       "[10, 9, 8, 7, 6, 5, 4, 3, 2, 1]"
      ]
     },
     "execution_count": 13,
     "metadata": {},
     "output_type": "execute_result"
    }
   ],
   "source": [
    "list(range(10,0,-1))  ##see this "
   ]
  },
  {
   "cell_type": "code",
   "execution_count": 14,
   "id": "6ef82014",
   "metadata": {},
   "outputs": [
    {
     "data": {
      "text/plain": [
       "[2, 4, 6, 8, 10]"
      ]
     },
     "execution_count": 14,
     "metadata": {},
     "output_type": "execute_result"
    }
   ],
   "source": [
    "list(range(2,12,2))"
   ]
  },
  {
   "cell_type": "code",
   "execution_count": 15,
   "id": "89a932dc",
   "metadata": {},
   "outputs": [],
   "source": [
    "##for function     ##iterable objects are those objects which can be accessed one by one using loop (list,string,dic,tuple,sets)"
   ]
  },
  {
   "cell_type": "code",
   "execution_count": 17,
   "id": "cdfbe60a",
   "metadata": {},
   "outputs": [
    {
     "name": "stdout",
     "output_type": "stream",
     "text": [
      "0\n",
      "1\n",
      "2\n",
      "3\n",
      "4\n"
     ]
    }
   ],
   "source": [
    "for i in range(5):\n",
    "    print(i)"
   ]
  },
  {
   "cell_type": "markdown",
   "id": "28058c46",
   "metadata": {},
   "source": [
    "Loops statements\n",
    "1 while loop \n",
    "2 for loop \n",
    "3 nested loops \n",
    "4 loop control (break, continue ,pass)"
   ]
  },
  {
   "cell_type": "code",
   "execution_count": 21,
   "id": "2a610741",
   "metadata": {},
   "outputs": [],
   "source": [
    "#while loop"
   ]
  },
  {
   "cell_type": "code",
   "execution_count": 23,
   "id": "4e939bd4",
   "metadata": {},
   "outputs": [
    {
     "name": "stdout",
     "output_type": "stream",
     "text": [
      "26\n",
      "27\n",
      "28\n",
      "29\n",
      "30\n",
      "31\n",
      "32\n",
      "33\n",
      "34\n",
      "35\n",
      "36\n",
      "37\n",
      "38\n",
      "39\n",
      "40\n",
      "41\n",
      "42\n",
      "43\n",
      "44\n",
      "45\n",
      "46\n",
      "47\n",
      "48\n",
      "49\n",
      "50\n",
      "51\n",
      "52\n",
      "53\n",
      "54\n",
      "55\n",
      "56\n",
      "57\n",
      "58\n",
      "59\n",
      "60\n",
      "61\n",
      "time for retirement\n"
     ]
    }
   ],
   "source": [
    "joining_age=25\n",
    "while joining_age<=60:\n",
    "    joining_age+=1\n",
    "    print(joining_age)   ##while is like do this till this condition is satisfied \n",
    "print(\"time for retirement\")"
   ]
  },
  {
   "cell_type": "code",
   "execution_count": 24,
   "id": "42f7f3f4",
   "metadata": {},
   "outputs": [],
   "source": [
    "## see to exchange print and +=1 line and see the difference "
   ]
  },
  {
   "cell_type": "code",
   "execution_count": 25,
   "id": "5ab0f12f",
   "metadata": {},
   "outputs": [],
   "source": [
    "##atm  machine with 1000 rs "
   ]
  },
  {
   "cell_type": "code",
   "execution_count": 29,
   "id": "cb12b777",
   "metadata": {},
   "outputs": [
    {
     "name": "stdout",
     "output_type": "stream",
     "text": [
      "900\n",
      "800\n",
      "700\n",
      "600\n",
      "500\n",
      "400\n",
      "300\n",
      "200\n",
      "100\n",
      "0\n",
      "fill money\n"
     ]
    }
   ],
   "source": [
    "amount=1000\n",
    "while amount!=0:\n",
    "    amount-=100\n",
    "    print(amount)\n",
    "print(\"fill money\")"
   ]
  },
  {
   "cell_type": "code",
   "execution_count": 30,
   "id": "08ebc4a4",
   "metadata": {},
   "outputs": [],
   "source": [
    "## for loop iteration which works inside a container like tuple list dictionary sets"
   ]
  },
  {
   "cell_type": "code",
   "execution_count": 31,
   "id": "934bbe9f",
   "metadata": {},
   "outputs": [],
   "source": [
    "l1=[1,2,3,4,5,6,7,8,\"himank\"]"
   ]
  },
  {
   "cell_type": "code",
   "execution_count": 32,
   "id": "79dd6e81",
   "metadata": {},
   "outputs": [
    {
     "data": {
      "text/plain": [
       "list"
      ]
     },
     "execution_count": 32,
     "metadata": {},
     "output_type": "execute_result"
    }
   ],
   "source": [
    "type(l1)"
   ]
  },
  {
   "cell_type": "code",
   "execution_count": 33,
   "id": "60efa772",
   "metadata": {
    "scrolled": true
   },
   "outputs": [
    {
     "name": "stdout",
     "output_type": "stream",
     "text": [
      "1\n",
      "2\n",
      "3\n",
      "4\n",
      "5\n",
      "6\n",
      "7\n",
      "8\n",
      "himank\n"
     ]
    }
   ],
   "source": [
    "for i in l1:    ## i enters as index in list \n",
    "    print(i)"
   ]
  },
  {
   "cell_type": "code",
   "execution_count": 38,
   "id": "41a7700c",
   "metadata": {},
   "outputs": [],
   "source": [
    "fruits_list=[\"mango\",\"banana\",\"apple\",\"papaya\"]"
   ]
  },
  {
   "cell_type": "markdown",
   "id": "8b594ea8",
   "metadata": {},
   "source": []
  },
  {
   "cell_type": "code",
   "execution_count": 41,
   "id": "b8ac675d",
   "metadata": {},
   "outputs": [
    {
     "name": "stdout",
     "output_type": "stream",
     "text": [
      "mangobananasuccess\n",
      "applepapaya"
     ]
    }
   ],
   "source": [
    "for a in fruits_list:\n",
    "    print(a,end=\"\")\n",
    "    if a==\"banana\":\n",
    "        print(\"success\")      ##see same thing just see print statement "
   ]
  },
  {
   "cell_type": "code",
   "execution_count": 43,
   "id": "fe216cd1",
   "metadata": {},
   "outputs": [],
   "source": [
    "fruit=\"mango\""
   ]
  },
  {
   "cell_type": "markdown",
   "id": "07154b38",
   "metadata": {},
   "source": []
  },
  {
   "cell_type": "code",
   "execution_count": 44,
   "id": "82964b63",
   "metadata": {},
   "outputs": [
    {
     "name": "stdout",
     "output_type": "stream",
     "text": [
      "m\n",
      "a\n",
      "n\n",
      "g\n",
      "o\n"
     ]
    }
   ],
   "source": [
    "for x in fruit:\n",
    "    print(x)         ## here iteration is done character by character (string is collection of characters )"
   ]
  },
  {
   "cell_type": "code",
   "execution_count": 45,
   "id": "b652c276",
   "metadata": {},
   "outputs": [],
   "source": [
    "##whenever theres is a collection of elements for loop will go through each element "
   ]
  },
  {
   "cell_type": "code",
   "execution_count": 46,
   "id": "cd1f1f8c",
   "metadata": {},
   "outputs": [
    {
     "data": {
      "text/plain": [
       "[1, 2, 3, 4, 5]"
      ]
     },
     "execution_count": 46,
     "metadata": {},
     "output_type": "execute_result"
    }
   ],
   "source": [
    "### Nested loops \n",
    "n=7\n",
    "list(range(1,6))"
   ]
  },
  {
   "cell_type": "code",
   "execution_count": 47,
   "id": "2dcc661a",
   "metadata": {},
   "outputs": [
    {
     "name": "stdout",
     "output_type": "stream",
     "text": [
      "1\n",
      "2\n",
      "3\n",
      "4\n",
      "5\n"
     ]
    }
   ],
   "source": [
    "for i in range(1,6):\n",
    "    print(i)"
   ]
  },
  {
   "cell_type": "code",
   "execution_count": 48,
   "id": "e9d61b2b",
   "metadata": {},
   "outputs": [],
   "source": [
    "##nested loops "
   ]
  },
  {
   "cell_type": "code",
   "execution_count": 50,
   "id": "860d92b9",
   "metadata": {},
   "outputs": [
    {
     "name": "stdout",
     "output_type": "stream",
     "text": [
      "****************************"
     ]
    }
   ],
   "source": [
    "n=7\n",
    "for i in range(0,n):\n",
    "    for j in range(0,i+1):\n",
    "        print(\"*\",end=\"\")"
   ]
  },
  {
   "cell_type": "code",
   "execution_count": 52,
   "id": "20266886",
   "metadata": {},
   "outputs": [
    {
     "name": "stdout",
     "output_type": "stream",
     "text": [
      "*\r\n",
      "**\r\n",
      "***\r\n",
      "****\r\n",
      "*****\r\n",
      "******\r\n",
      "*******\r\n"
     ]
    }
   ],
   "source": [
    "n=7\n",
    "for i in range(0,n):\n",
    "    for j in range(0,i+1):\n",
    "        print(\"*\",end=\"\")\n",
    "    print(\"\\r\")              ##vimp see print(\\r ) is used in oute for loop to make this pattern v nice \n",
    "    ## see diff in print(\\n and \\r )"
   ]
  },
  {
   "cell_type": "code",
   "execution_count": 53,
   "id": "5fce2c20",
   "metadata": {},
   "outputs": [],
   "source": [
    "## for loop is like a pointer in python pointing to the ith element of the iterable object"
   ]
  },
  {
   "cell_type": "code",
   "execution_count": 54,
   "id": "67b07d8a",
   "metadata": {},
   "outputs": [],
   "source": [
    "l1=[1,2,3,4,5,6,7]"
   ]
  },
  {
   "cell_type": "code",
   "execution_count": 55,
   "id": "27c4a35f",
   "metadata": {},
   "outputs": [
    {
     "name": "stdout",
     "output_type": "stream",
     "text": [
      "1\n",
      "2\n",
      "3\n",
      "4\n",
      "5\n",
      "6\n",
      "7\n"
     ]
    }
   ],
   "source": [
    "for i in l1:\n",
    "    print(i)    ##here its pointing to element "
   ]
  },
  {
   "cell_type": "code",
   "execution_count": 56,
   "id": "e05e0f47",
   "metadata": {},
   "outputs": [
    {
     "name": "stdout",
     "output_type": "stream",
     "text": [
      "1\n",
      "2\n",
      "3\n",
      "4\n",
      "5\n",
      "6\n",
      "7\n"
     ]
    }
   ],
   "source": [
    "for i in range(len(l1)):\n",
    "    print (l1[i])       ##see here we make iterations in range and used that range to print list "
   ]
  },
  {
   "cell_type": "code",
   "execution_count": 57,
   "id": "00cae0b4",
   "metadata": {},
   "outputs": [],
   "source": [
    "dict1={\"my\":\"name\",\"is\":\"himank\"}"
   ]
  },
  {
   "cell_type": "code",
   "execution_count": 58,
   "id": "15af1b5c",
   "metadata": {},
   "outputs": [
    {
     "data": {
      "text/plain": [
       "dict_keys(['my', 'is'])"
      ]
     },
     "execution_count": 58,
     "metadata": {},
     "output_type": "execute_result"
    }
   ],
   "source": [
    "dict1.keys()"
   ]
  },
  {
   "cell_type": "code",
   "execution_count": 59,
   "id": "cfbc8673",
   "metadata": {},
   "outputs": [
    {
     "data": {
      "text/plain": [
       "dict_values(['name', 'himank'])"
      ]
     },
     "execution_count": 59,
     "metadata": {},
     "output_type": "execute_result"
    }
   ],
   "source": [
    "dict1.values()"
   ]
  },
  {
   "cell_type": "code",
   "execution_count": 60,
   "id": "e218375c",
   "metadata": {},
   "outputs": [
    {
     "name": "stdout",
     "output_type": "stream",
     "text": [
      "my\n",
      "is\n"
     ]
    }
   ],
   "source": [
    "for i in dict1:\n",
    "    print(i)     ## see in dictionary for loop tends to point upon keys    ## vimp!!"
   ]
  },
  {
   "cell_type": "code",
   "execution_count": 64,
   "id": "2a3b4a6b",
   "metadata": {},
   "outputs": [
    {
     "name": "stdout",
     "output_type": "stream",
     "text": [
      "my name\n",
      "is himank\n"
     ]
    }
   ],
   "source": [
    "for i in dict1:\n",
    "    print(i ,dict1[i])"
   ]
  },
  {
   "cell_type": "code",
   "execution_count": 62,
   "id": "15393f19",
   "metadata": {},
   "outputs": [
    {
     "data": {
      "text/plain": [
       "'name'"
      ]
     },
     "execution_count": 62,
     "metadata": {},
     "output_type": "execute_result"
    }
   ],
   "source": [
    "dict1[\"my\"]"
   ]
  },
  {
   "cell_type": "code",
   "execution_count": 65,
   "id": "6be9faed",
   "metadata": {},
   "outputs": [
    {
     "name": "stdout",
     "output_type": "stream",
     "text": [
      "10 20\n"
     ]
    }
   ],
   "source": [
    "a=10\n",
    "b=20\n",
    "print(a,b)    ## see how two objects are printed in python "
   ]
  },
  {
   "cell_type": "code",
   "execution_count": 66,
   "id": "01df1d38",
   "metadata": {},
   "outputs": [],
   "source": [
    "## remember in dictionary for loop takes key values "
   ]
  },
  {
   "cell_type": "code",
   "execution_count": 67,
   "id": "a1428c99",
   "metadata": {},
   "outputs": [
    {
     "name": "stdout",
     "output_type": "stream",
     "text": [
      "name\n",
      "himank\n"
     ]
    }
   ],
   "source": [
    "for i in dict1.values():\n",
    "    print(i)     ## to print values of dictionary using for loop "
   ]
  },
  {
   "cell_type": "code",
   "execution_count": 69,
   "id": "bdd3b5dd",
   "metadata": {},
   "outputs": [
    {
     "name": "stdout",
     "output_type": "stream",
     "text": [
      "1 2 3 4 5 \n",
      "\n",
      "2 4 6 8 10 \n",
      "\n",
      "3 6 9 12 15 \n",
      "\n",
      "4 8 12 16 20 \n",
      "\n",
      "5 10 15 20 25 \n",
      "\n"
     ]
    }
   ],
   "source": [
    "for i in range(5):\n",
    "    for j in range(5):\n",
    "        print((i+1)*(j+1),end=\" \")\n",
    "    print (\"\\n\")\n",
    "        "
   ]
  },
  {
   "cell_type": "code",
   "execution_count": 71,
   "id": "e4862c58",
   "metadata": {
    "scrolled": true
   },
   "outputs": [
    {
     "name": "stdout",
     "output_type": "stream",
     "text": [
      "hi\n",
      "you entered hi\n",
      "hi\n",
      "you entered hi\n",
      "quit\n",
      "you entered quit\n"
     ]
    }
   ],
   "source": [
    "text= str         ## by putting \"\" you defined text variable as a string or just use str \n",
    "while text!=\"quit\":\n",
    "    text=input()\n",
    "    print(\"you entered\",text)"
   ]
  },
  {
   "cell_type": "code",
   "execution_count": 72,
   "id": "329396e9",
   "metadata": {},
   "outputs": [],
   "source": [
    "## if number of iterations is known use for loop and when we dont know e use while "
   ]
  },
  {
   "cell_type": "code",
   "execution_count": null,
   "id": "8db7572e",
   "metadata": {},
   "outputs": [
    {
     "name": "stdout",
     "output_type": "stream",
     "text": [
      "enter value of a 2\n",
      "2\n"
     ]
    }
   ],
   "source": [
    "a= int     ## here we defined a as an integer data type \n",
    "while a!=22:\n",
    "    a=int(input(\"enter value of age\"))\n",
    "    print(a)\n"
   ]
  },
  {
   "cell_type": "markdown",
   "id": "f4f852ac",
   "metadata": {},
   "source": []
  },
  {
   "cell_type": "code",
   "execution_count": null,
   "id": "027ed6a5",
   "metadata": {},
   "outputs": [],
   "source": []
  }
 ],
 "metadata": {
  "kernelspec": {
   "display_name": "Python 3 (ipykernel)",
   "language": "python",
   "name": "python3"
  },
  "language_info": {
   "codemirror_mode": {
    "name": "ipython",
    "version": 3
   },
   "file_extension": ".py",
   "mimetype": "text/x-python",
   "name": "python",
   "nbconvert_exporter": "python",
   "pygments_lexer": "ipython3",
   "version": "3.10.9"
  }
 },
 "nbformat": 4,
 "nbformat_minor": 5
}
